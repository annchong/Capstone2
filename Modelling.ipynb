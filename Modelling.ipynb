{
 "cells": [
  {
   "cell_type": "code",
   "execution_count": 1,
   "metadata": {
    "collapsed": true
   },
   "outputs": [],
   "source": [
    "import numpy as np\n",
    "import pandas as pd\n",
    "from pandas import read_csv\n",
    "\n",
    "import matplotlib.pyplot as plt\n",
    "%matplotlib inline\n",
    "import seaborn as sns\n"
   ]
  },
  {
   "cell_type": "markdown",
   "metadata": {},
   "source": [
    "### Retrieve variables from Notebook 1 - Data Exploration"
   ]
  },
  {
   "cell_type": "code",
   "execution_count": 2,
   "metadata": {
    "collapsed": true
   },
   "outputs": [],
   "source": [
    "%store -r train_enhanced\n",
    "%store -r categorical_vars\n",
    "%store -r non_categorical_vars\n",
    "%store -r nulls_details\n",
    "%store -r non_sparse_features"
   ]
  },
  {
   "cell_type": "code",
   "execution_count": 3,
   "metadata": {},
   "outputs": [
    {
     "data": {
      "text/plain": [
       "(90811, 58)"
      ]
     },
     "execution_count": 3,
     "metadata": {},
     "output_type": "execute_result"
    }
   ],
   "source": [
    "train_enhanced.shape"
   ]
  },
  {
   "cell_type": "code",
   "execution_count": 4,
   "metadata": {},
   "outputs": [
    {
     "data": {
      "text/plain": [
       "(90811, 34)"
      ]
     },
     "execution_count": 4,
     "metadata": {},
     "output_type": "execute_result"
    }
   ],
   "source": [
    "non_categorical_vars.shape"
   ]
  },
  {
   "cell_type": "markdown",
   "metadata": {},
   "source": [
    "# 0. Helper Functions"
   ]
  },
  {
   "cell_type": "markdown",
   "metadata": {},
   "source": [
    "## 1. Data Preparation"
   ]
  },
  {
   "cell_type": "code",
   "execution_count": 5,
   "metadata": {
    "collapsed": true
   },
   "outputs": [],
   "source": [
    "# function that separates out features in a list into categorical and non-categorical variables\n",
    "def categorise_features(features_list,categorical_features_df,non_categorical_features_df):\n",
    "    \n",
    "    categorical_features_list=[]\n",
    "    non_categorical_features_list=[]\n",
    "    \n",
    "    for item in features_list:\n",
    "        if item in list(categorical_features_df.columns):\n",
    "            categorical_features_list.append(item)\n",
    "        else:\n",
    "            non_categorical_features_list.append(item)\n",
    "            \n",
    "    return categorical_features_list,non_categorical_features_list"
   ]
  },
  {
   "cell_type": "markdown",
   "metadata": {},
   "source": [
    "### 1.1 Non Categorical Variables\n",
    "Impute empty cells of non-categorical variables with the mean value."
   ]
  },
  {
   "cell_type": "code",
   "execution_count": 6,
   "metadata": {
    "collapsed": true
   },
   "outputs": [],
   "source": [
    "from sklearn.preprocessing import Imputer\n",
    "\n",
    "def impute_df(df):\n",
    "    imp = Imputer(missing_values='NaN', strategy='mean', axis=0)\n",
    "    col_names=df.columns\n",
    "    return pd.DataFrame(imp.fit_transform(df),columns=col_names)"
   ]
  },
  {
   "cell_type": "markdown",
   "metadata": {},
   "source": [
    "### 1.2 Categorical Variables\n",
    "One hot encode categorical variables"
   ]
  },
  {
   "cell_type": "code",
   "execution_count": 7,
   "metadata": {
    "collapsed": true
   },
   "outputs": [],
   "source": [
    "def one_hot_encode(df):\n",
    "    df_filled=df.fillna('NA')\n",
    "\n",
    "    col_names=df.columns\n",
    "    return pd.get_dummies(df_filled,columns=col_names)"
   ]
  },
  {
   "cell_type": "markdown",
   "metadata": {},
   "source": [
    "### 1.3 Combine categorical AND non categorical variables"
   ]
  },
  {
   "cell_type": "code",
   "execution_count": 8,
   "metadata": {
    "collapsed": true
   },
   "outputs": [],
   "source": [
    "def process_features(categorical_vars,non_categorical_vars):\n",
    "    encoded_vars=one_hot_encode(categorical_vars)\n",
    "    imputed_vars=impute_df(non_categorical_vars)\n",
    "    \n",
    "    return encoded_vars.join(imputed_vars)\n"
   ]
  },
  {
   "cell_type": "markdown",
   "metadata": {},
   "source": [
    "### 1.4 Feature Scaling, Standardizing and Normalizing"
   ]
  },
  {
   "cell_type": "code",
   "execution_count": 9,
   "metadata": {
    "collapsed": true
   },
   "outputs": [],
   "source": [
    "from sklearn.preprocessing import MinMaxScaler, StandardScaler, Normalizer\n",
    "\n",
    "def scale_data(X,min_val,max_val):\n",
    "    scaler=MinMaxScaler(feature_range=(min_val,max_val))\n",
    "    rescaled_X=scaler.fit_transform(X)\n",
    "    rescaled_X.columns=X.columns\n",
    "    \n",
    "    return rescaled_X\n",
    "\n",
    "def standardize_data(X):\n",
    "    scaler=StandardScaler()\n",
    "    rescaled_X=pd.DataFrame(scaler.fit_transform(X))\n",
    "    rescaled_X.columns=X.columns\n",
    "    \n",
    "    return rescaled_X\n",
    "\n",
    "def normalize_data(X):\n",
    "    scaler=Normalizer()\n",
    "    normalized_X=pd.DataFrame(scaler.fit_transform(X))\n",
    "    normalized_X.columns=X.columns\n",
    "    \n",
    "    return normalized_X"
   ]
  },
  {
   "cell_type": "code",
   "execution_count": 10,
   "metadata": {
    "collapsed": true
   },
   "outputs": [],
   "source": [
    "from sklearn.decomposition import PCA\n",
    "\n",
    "def get_pca_features(X,n_components):\n",
    "    pca=PCA(n_components)\n",
    "    \n",
    "    X_pca=pca.fit_transform(X)\n",
    "    \n",
    "    return X_pca"
   ]
  },
  {
   "cell_type": "markdown",
   "metadata": {},
   "source": [
    "### 1.5 Diagnostic Functions"
   ]
  },
  {
   "cell_type": "code",
   "execution_count": 11,
   "metadata": {
    "collapsed": true
   },
   "outputs": [],
   "source": [
    "def print_categorical_details(cat_features_list):\n",
    "    print(\"\\nNumber of categorical variables: %d \\n\\n %s\" % (len(cat_features_list),cat_features_list))\n",
    "    \n",
    "def print_non_categorical_details(nonCat_features_list):\n",
    "    print(\"\\nNumber of non categorical variables: %d \\n\\n %s\" % (len(nonCat_features_list),nonCat_features_list))"
   ]
  },
  {
   "cell_type": "markdown",
   "metadata": {},
   "source": [
    "## 2. Performance Metrics/Evaluation Functions"
   ]
  },
  {
   "cell_type": "markdown",
   "metadata": {},
   "source": [
    "### 2.1 Coefficient of Determination $R^2$\n",
    "As per the capstone proposal, one of the measures of performance is the [*coefficient of determination*](http://stattrek.com/statistics/dictionary.aspx?definition=coefficient_of_determination), $R^2$ = explained variance/total variance.  This is the proportion of the variation in the target variable that is explained by the linear model, and takes values between 0% and 100%.  The closer the $R^2$ value is to 100%, the better the model explains the variability of the target variable around its mean. An $R^2$ value of 0 indicates a model which always fails to predict the target variable, whilst 1 describes a model which perfectly predicts the target variable.\n",
    "\n",
    "*A model can be given a negative $R^2$ as well, which indicates that the model is no better than one that naively predicts the mean of the target variable.*"
   ]
  },
  {
   "cell_type": "code",
   "execution_count": 12,
   "metadata": {
    "collapsed": true
   },
   "outputs": [],
   "source": [
    "# Import 'r2_score'.  Use `r2_score` from `sklearn.metrics` to perform a performance calculation between `y_true` and `y_predict`.\n",
    "# Assign the performance score to the `score` variable.\n",
    "\n",
    "from sklearn.metrics import r2_score\n",
    "\n",
    "def performance_metric(y_true, y_predict):\n",
    "    \n",
    "    # Calculate the performance score between 'y_true' and 'y_predict'\n",
    "    score = r2_score(y_true,y_predict)\n",
    "    \n",
    "    # Return the score\n",
    "    return score"
   ]
  },
  {
   "cell_type": "markdown",
   "metadata": {},
   "source": [
    "### 2.2 Mean Squared Error"
   ]
  },
  {
   "cell_type": "code",
   "execution_count": 13,
   "metadata": {
    "collapsed": true
   },
   "outputs": [],
   "source": [
    "# function to estimate the average sum of squared errors\n",
    "def get_mse(predictions,actuals):\n",
    "    errors=predictions-actuals\n",
    "    sq_errors=errors*errors\n",
    "    sse=sq_errors.sum()\n",
    "    \n",
    "    return sse/len(actuals)\n",
    "\n",
    "# function to estimate the average sum of the squared errors using the mean of y_train as the predictor \n",
    "def get_mse_mean(y_train,actuals):\n",
    "    mean_train=y_train.mean()\n",
    "    SE_mean=mean_train-actuals\n",
    "    SE_mean=SE_mean*SE_mean\n",
    "    SSE_mean=SE_mean.sum()\n",
    "    return SSE_mean/len(actuals)"
   ]
  },
  {
   "cell_type": "code",
   "execution_count": 14,
   "metadata": {
    "collapsed": true
   },
   "outputs": [],
   "source": [
    "# returns predictions from a model\n",
    "def analyze_model(model,X_test,y_test):\n",
    "    predictions=model.predict(X_test)\n",
    "    print(\"r2 score: %.8f\" % r2_score(y_test,predictions))\n",
    "    return predictions"
   ]
  },
  {
   "cell_type": "code",
   "execution_count": 15,
   "metadata": {
    "collapsed": true
   },
   "outputs": [],
   "source": [
    "# returns predictions on both a training and a test dataset\n",
    "def evaluate_model(X_test,y_test,X_train,y_train,model):\n",
    "    test_pred=model.predict(X_test)\n",
    " \n",
    "    train_pred=model.predict(X_train)\n",
    "\n",
    "    r2=r2_score(y_test,test_pred)\n",
    "    model_name=model.__class__.__name__\n",
    "    mse=get_mse(test_pred,y_test)\n",
    "    mse_mean=get_mse_mean(y_train,y_test)\n",
    "    \n",
    "    print(\"\\nResults from {}: \\n\".format(model_name))\n",
    "    print(\"r2 score: %.8f\\n\" % r2)\n",
    "    print(\"MSE (model vs baseline): %.8f vs %.8f\\n\" % (mse,mse_mean))\n",
    "\n",
    "    return test_pred,train_pred"
   ]
  },
  {
   "cell_type": "code",
   "execution_count": 16,
   "metadata": {
    "collapsed": true
   },
   "outputs": [],
   "source": [
    "def get_linear_model_perf(X,Y,model):    \n",
    "    X_train, X_test, y_train, y_test = train_test_split(X,Y,test_size=0.2,random_state=123)\n",
    "    \n",
    "    model,r2=linear_model(model,X_train,y_train,X_test,y_test,print_graph=True,return_results=True)\n",
    "    \n",
    "    return model,r2"
   ]
  },
  {
   "cell_type": "code",
   "execution_count": 17,
   "metadata": {
    "collapsed": true
   },
   "outputs": [],
   "source": [
    "def get_best_overall_score(df,metric):\n",
    "    best_index=df[metric].argmax()\n",
    "    best_details=df.loc[best_index]\n",
    "    \n",
    "    best_model=best_details['model type']\n",
    "    best_basis=best_details['basis']\n",
    "    best_score=best_details[metric]\n",
    "    best_data_source=best_details['Data']\n",
    "    \n",
    "    return best_score,best_basis,best_model,best_data_source"
   ]
  },
  {
   "cell_type": "markdown",
   "metadata": {},
   "source": [
    "## 3. Plotting Functions\n",
    "\n",
    "### 3.1 Residual Plots\n",
    "Residual plots are used as the $R^2$ variable on its own is not able to determine if a model is biased.<sup>Ref:http://blog.minitab.com/blog/adventures-in-statistics-2/regression-analysis-how-do-i-interpret-r-squared-and-assess-the-goodness-of-fit</sup>"
   ]
  },
  {
   "cell_type": "code",
   "execution_count": 18,
   "metadata": {
    "collapsed": true
   },
   "outputs": [],
   "source": [
    "def plot_residuals(predictions,actuals,title_text):\n",
    "#PLOT\n",
    "    fig1 = plt.figure(1)\n",
    "    plt.title(title_text)\n",
    "    #Plot Data-model\n",
    "    frame1=fig1.add_axes((.0,.4,1.0,.5))\n",
    "    #xstart, ystart, xend, yend [units are fraction of the image frame, from bottom left corner]\n",
    "    plt.plot(actuals,predictions,'.b',label=\"prediction\") #predictions\n",
    "    plt.plot(actuals,actuals,'.r',label=\"actual\") #actuals\n",
    "    frame1.set_xticklabels([]) #Remove x-tic labels for the first frame\n",
    "    plt.legend()\n",
    "    plt.grid()\n",
    "\n",
    "    #Residual plot\n",
    "    difference = actuals - predictions\n",
    "    frame2=fig1.add_axes((.0,.0,1.0,.4))        \n",
    "    #plt.plot(actuals,difference,'or')\n",
    "    #plt.plot(actuals,difference,'.b',label=\"Actual vs Prediction\")\n",
    "    plt.plot(actuals,difference,'.g',label=\"Actual less Prediction\")\n",
    "    plt.legend()\n",
    "    plt.grid()\n"
   ]
  },
  {
   "cell_type": "markdown",
   "metadata": {},
   "source": [
    "\n",
    "### 3.2 Actual vs Expected Plots"
   ]
  },
  {
   "cell_type": "code",
   "execution_count": 19,
   "metadata": {
    "collapsed": true
   },
   "outputs": [],
   "source": [
    "def AvE_plots(train_pred,train_y,test_pred,test_y,model):\n",
    "#PLOT\n",
    "    model_name=model.__class__.__name__\n",
    "    plt.figure(figsize=(20,8))\n",
    "    #fig1 = plt.figure(1)\n",
    "    plt.subplot(1,2,1)\n",
    "    plt.title(\"AvE Analysis (Training Data)- %s\" % model_name)\n",
    "    #Plot Data-model\n",
    "#    frame1=fig1.add_axes((.0,.4,1.0,.5))\n",
    "    #xstart, ystart, xend, yend [units are fraction of the image frame, from bottom left corner]\n",
    "    plt.plot(train_y,train_pred,'.b',label=\"prediction\") #predictions\n",
    "    plt.plot(train_y,train_y,'.r',label=\"actual\") #actuals\n",
    "#    fig1.set_xticklabels([]) #Remove x-tic labels for the first frame\n",
    "    plt.legend()\n",
    "    plt.grid()\n",
    "\n",
    "    #Residual plot\n",
    "    #fig2 = plt.figure(2)\n",
    "    \n",
    "    plt.subplot(1,2,2)\n",
    "    plt.title(\"AvE Analysis (Test Data) - %s\" % model_name)\n",
    "    #Plot Data-model\n",
    "#    frame2=fig2.add_axes((.0,.4,1.0,.5))\n",
    "    #xstart, ystart, xend, yend [units are fraction of the image frame, from bottom left corner]\n",
    "    plt.plot(test_y,test_pred,'.b',label=\"prediction\") #predictions\n",
    "    plt.plot(test_y,test_y,'.r',label=\"actual\") #actuals\n",
    "#    fig2.set_xticklabels([]) #Remove x-tic labels for the first frame\n",
    "    plt.legend()\n",
    "    plt.grid()\n"
   ]
  },
  {
   "cell_type": "markdown",
   "metadata": {},
   "source": [
    "### 3.3 Visualisations"
   ]
  },
  {
   "cell_type": "code",
   "execution_count": 20,
   "metadata": {
    "collapsed": true
   },
   "outputs": [],
   "source": [
    "def print_bar_plots(dataset,feature1,feature2,x_axis,label1,label2,sizeX,sizeY,title):\n",
    "    fig,ax=plt.subplots()\n",
    "    ax2=ax.twinx()\n",
    "    fig.set_size_inches(sizeX,sizeY)\n",
    "    plt.xticks(rotation=90)\n",
    "\n",
    "    g1=sns.barplot(data=dataset,x=x_axis,y=feature1,ax=ax,color=\"blue\",alpha=0.5,label=label1)\n",
    "    g2=sns.barplot(data=dataset,x=x_axis,y=feature2,ax=ax2,color=\"red\",alpha=0.5,label=label2)\n",
    "\n",
    "    for item in g1.get_xticklabels():\n",
    "        item.set_rotation(90)\n",
    "\n",
    "    ax.legend(loc='upper right')\n",
    "    ax2.legend(loc='upper left')\n",
    "    ax.set_title(title)"
   ]
  },
  {
   "cell_type": "code",
   "execution_count": 21,
   "metadata": {
    "collapsed": true
   },
   "outputs": [],
   "source": [
    "def plot_horizontal_bars(x_size,y_size,title,dataset,plot_variable,y_axis,x_label):\n",
    "    fig,ax= plt.subplots()\n",
    "    fig.set_size_inches(x_size,y_size)\n",
    "\n",
    "    items=np.arange(len(dataset[plot_variable]))\n",
    "    rects = ax.barh(items,dataset[plot_variable], color='blue')\n",
    "    ax.set_yticks(items)\n",
    "    ax.set_yticklabels(dataset[y_axis], rotation='horizontal')\n",
    "    ax.set_xlabel(x_label)\n",
    "    ax.set_title(title)\n",
    "    plt.show()"
   ]
  },
  {
   "cell_type": "code",
   "execution_count": 22,
   "metadata": {
    "collapsed": true
   },
   "outputs": [],
   "source": [
    "def plot_rf_importances(indices,features,importances,x_size,y_size):\n",
    "    #plt.figure(1)\n",
    "    fig,ax= plt.subplots()\n",
    "    fig.set_size_inches(x_size,y_size)\n",
    "\n",
    "    plt.title('Feature Importances')\n",
    "    plt.barh(range(len(indices)), importances[indices], color='b', align='center')\n",
    "    plt.yticks(range(len(indices)), features[indices])\n",
    "    #plt.yticks(range(len(indices)))\n",
    "    plt.xlabel('Relative Importance')"
   ]
  },
  {
   "cell_type": "code",
   "execution_count": 23,
   "metadata": {
    "collapsed": true
   },
   "outputs": [],
   "source": [
    "# this function plots subplot - need to specify total number of plots and plot position \n",
    "\n",
    "def plot_params(X,Y,x_label,y_label,title,plot_position,total_plots,fig):\n",
    "#plot_params(params,scores,param_name,'r2',name,plot_position,num_plots,fig)\n",
    "    #fig.subplots_adjust(hspace=.9)\n",
    "    #fig.subplots_adjust(top=0.95)\n",
    "    \n",
    "    ax=fig.add_subplot(1,total_plots,plot_position)\n",
    "    plt.plot(X,Y)\n",
    "    ax.set_title(title)\n",
    "    ax.set_ylabel(y_label)\n",
    "    ax.set_xlabel(x_label)\n",
    "    \n",
    "#    fig.tight_layout()"
   ]
  },
  {
   "cell_type": "code",
   "execution_count": 24,
   "metadata": {
    "collapsed": true
   },
   "outputs": [],
   "source": [
    "def plot_linear_models(plot1,title1,label1,plot2,title2,label2,plot3,title3,label3,score,suptitle=\"\"):\n",
    "\n",
    "    fig=plt.figure(figsize=(15,5))\n",
    "    fig.suptitle(suptitle)\n",
    "\n",
    "    ax1=fig.add_subplot(1,3,1)\n",
    "    plt.boxplot(plot1)\n",
    "    ax1.set_title(title1)\n",
    "    ax1.set_ylabel(score)\n",
    "    ax1.set_xticklabels(label1)\n",
    "\n",
    "    ax2=fig.add_subplot(1,3,2,sharey=ax1)\n",
    "    ax2.set_title(title2)\n",
    "    plt.boxplot(plot2)\n",
    "    ax2.set_xticklabels(label2)\n",
    "\n",
    "    ax3=fig.add_subplot(1,3,3,sharey=ax1)\n",
    "    ax3.set_title(title3)\n",
    "    plt.boxplot(plot3)\n",
    "    ax3.set_xticklabels(label3)\n",
    "\n",
    "    #fig.subplots)\n",
    "    plt.show()"
   ]
  },
  {
   "cell_type": "code",
   "execution_count": 25,
   "metadata": {
    "collapsed": true
   },
   "outputs": [],
   "source": [
    "import seaborn as sns\n",
    "def bar_plot_df(plot_df,ax,show_values=False):\n",
    "    ax=sns.barplot(data=plot_df,x='model type',y='r2',hue='basis',palette=sns.xkcd_palette(['blue', 'red']))\n",
    "    ax.set_xlabel=\"  \"\n",
    "    #    ax.legend(loc='upper right')\n",
    "#    ax.legend(bbox_to_anchor=(1, 1.05))\n",
    "\n",
    "    if show_values==True:\n",
    "        for p in ax.patches:\n",
    "            height = p.get_height()\n",
    "            ax.text(p.get_x()+p.get_width()/2.,\n",
    "                height + 0,\n",
    "                '{:1.2f}'.format(height/float(len(plot_df['r2']))),\n",
    "                ha=\"center\") "
   ]
  },
  {
   "cell_type": "markdown",
   "metadata": {},
   "source": [
    "## 4. Feature Importance Functions"
   ]
  },
  {
   "cell_type": "markdown",
   "metadata": {},
   "source": [
    "\n",
    "### 4.1 XGBoost Functions"
   ]
  },
  {
   "cell_type": "code",
   "execution_count": 26,
   "metadata": {
    "collapsed": true
   },
   "outputs": [],
   "source": [
    "def train_xgb(X_train,y_train):\n",
    "    dtrain = xgb.DMatrix(X_train, y_train, feature_names=X_train.columns.values)\n",
    "    model = xgb.train(dict(xgb_params, silent=0), dtrain, num_boost_round=100)\n",
    "\n",
    "    print(\"Number of features in training data: %d\" % X_train.shape[1])\n",
    "    \n",
    "    return model\n",
    "\n",
    "def evaluate_xgb(X_test,y_test,X_train,y_train,model):\n",
    "    dtest = xgb.DMatrix(X_test, feature_names=X_test.columns.values)\n",
    "    test_pred=model.predict(dtest)\n",
    " \n",
    "    dtrain = xgb.DMatrix(X_train, feature_names=X_train.columns.values)\n",
    "    train_pred=model.predict(dtrain)\n",
    "\n",
    "    xgboost_r2=r2_score(y_test,test_pred)\n",
    "    xgboost_model_name=model.__class__.__name__\n",
    "    mse=get_mse(test_pred,y_test)\n",
    "    mse_mean=get_mse_mean(y_train,y_test)\n",
    "    \n",
    "    print(\"\\nResults from {}: \\n\".format(xgboost_model_name))\n",
    "    print(\"r2 score: %.8f\\n\" % xgboost_r2)\n",
    "    print(\"MSE (model vs baseline): %.8f vs %.8f\\n\" % (mse,mse_mean))\n",
    "\n",
    "    return test_pred,train_pred"
   ]
  },
  {
   "cell_type": "markdown",
   "metadata": {},
   "source": [
    "## 5. Modelling Functions"
   ]
  },
  {
   "cell_type": "code",
   "execution_count": 27,
   "metadata": {
    "collapsed": true
   },
   "outputs": [],
   "source": [
    "def run_model(model,X_train, y_train, X_test, y_test):\n",
    "    # assumes 'model' variables is already initialized\n",
    "    model.fit(X_train,y_train)\n",
    "    print('fitted model:  ',model)\n",
    "    predictions=model.predict(X_test)\n",
    "    \n",
    "    mse=get_mse(predictions,y_test)\n",
    "    r2=r2_score(y_test,predictions)\n",
    "    \n",
    "    return model,r2,mse"
   ]
  },
  {
   "cell_type": "markdown",
   "metadata": {},
   "source": [
    "### 5.1 PCA"
   ]
  },
  {
   "cell_type": "code",
   "execution_count": 28,
   "metadata": {
    "collapsed": true
   },
   "outputs": [],
   "source": [
    "from sklearn.decomposition import PCA\n",
    "\n",
    "def run_pca(model_type,X,Y,pca_n_components,print_graph=False,return_results=False):\n",
    "    \n",
    "    # feature extraction\n",
    "    pca=PCA(n_components=pca_n_components)\n",
    "    fit=pca.fit(X)\n",
    "\n",
    "    X_pca=pca.transform(X)\n",
    "\n",
    "#    Y_all_pca=train_enhanced['logerror']\n",
    "\n",
    "    X_pca_train, X_pca_test, y_pca_train, y_pca_test = train_test_split(X_pca,Y,test_size=0.2,random_state=123)\n",
    "\n",
    "    print(\"MODEL DETAILS:\")\n",
    "    print(\"\\nTotal number of model features: %d\" % (X_pca.shape[1]))\n",
    "    \n",
    "    model,r2=linear_model(model_type,X_pca_train,y_pca_train,X_pca_test,y_pca_test,print_graph,return_results)\n",
    "    \n",
    "    if return_results==True:\n",
    "        return model,r2\n",
    "    \n",
    "def pca_grid_search(model,start_n,end_n,interval,X,Y):\n",
    "    pca_dims=[]\n",
    "    pca_r2_scores=[]\n",
    "    pca_models=[]\n",
    "\n",
    "    candidate_dims=np.arange(start_n,end_n,interval)\n",
    "\n",
    "    for dim in candidate_dims:\n",
    "        pca_model,r2=run_pca(model,X,Y,dim,print_graph=False,return_results=True)\n",
    "        pca_dims.append(dim)\n",
    "        pca_models.append(pca_model)\n",
    "        pca_r2_scores.append(r2)\n",
    "        \n",
    "    return pca_dims,pca_r2_scores,pca_models"
   ]
  },
  {
   "cell_type": "code",
   "execution_count": 29,
   "metadata": {
    "collapsed": true
   },
   "outputs": [],
   "source": [
    "def evaluate_best_dim(r2_scores,dimensions,print_graph=False):\n",
    "    best_dim=dimensions[r2_scores.index(max(r2_scores))]\n",
    "    print('The optimal number of dimensions by r2 score is: %d.' % best_dim)\n",
    "    \n",
    "    if print_graph==True:\n",
    "        plt.plot(dimensions,r2_scores)\n",
    "        plt.title(\"r2 scores vs number of principal components\")\n",
    "        plt.xlabel(\"Number of principal components\")\n",
    "        plt.ylabel(\"r2 score\")\n",
    "        \n",
    "    return best_dim"
   ]
  },
  {
   "cell_type": "markdown",
   "metadata": {},
   "source": [
    "### 5.2 Linear Models"
   ]
  },
  {
   "cell_type": "code",
   "execution_count": 30,
   "metadata": {},
   "outputs": [
    {
     "name": "stderr",
     "output_type": "stream",
     "text": [
      "C:\\ProgramData\\Anaconda2\\envs\\neural_nets\\lib\\site-packages\\sklearn\\cross_validation.py:44: DeprecationWarning: This module was deprecated in version 0.18 in favor of the model_selection module into which all the refactored classes and functions are moved. Also note that the interface of the new CV iterators are different from that of this module. This module will be removed in 0.20.\n",
      "  \"This module will be removed in 0.20.\", DeprecationWarning)\n"
     ]
    }
   ],
   "source": [
    "from sklearn.linear_model import LinearRegression, Ridge, Lasso, RidgeCV, LassoCV, ElasticNet\n",
    "from sklearn.model_selection import KFold, cross_val_score\n",
    "from sklearn.cross_validation import train_test_split\n",
    "from sklearn.metrics import r2_score\n",
    "\n",
    "def linear_model(model_type,X_train,y_train,X_test,y_test,print_graph=True,return_results=False):\n",
    "    if model_type=='linear':\n",
    "        model=LinearRegression()\n",
    "    elif model_type=='lasso':\n",
    "        model=Lasso(random_state=123)\n",
    "    elif model_type=='ridge':\n",
    "        model=Ridge(random_state=123)\n",
    "    elif model_type=='lassoCV':\n",
    "        model=LassoCV()\n",
    "    elif model_type=='ridgeCV':\n",
    "        model=RidgeCV() \n",
    "    elif model_type=='eNet':\n",
    "        model=ElasticNet(random_state=123)\n",
    "\n",
    "    model.fit(X_train,y_train)\n",
    "    \n",
    "    test_pred=model.predict(X_test)\n",
    "    train_pred=model.predict(X_train)\n",
    "    \n",
    "    r2=r2_score(y_test,test_pred)\n",
    "    model_name=model.__class__.__name__\n",
    "    \n",
    "    print(\"\\nResults from {}: \\n\".format(model_name))\n",
    "    print(\"r2 score: %.8f\\n\" % r2)\n",
    "    print(\"MSE (predicted vs baseline): %.8f vs %.8f\\n\" % (get_mse(test_pred,y_test),get_mse_mean(y_train,y_test)))\n",
    "    \n",
    "    if print_graph==True:\n",
    "        AvE_plots(train_pred,y_train,test_pred,y_test,model)\n",
    "    \n",
    "    if return_results==True:\n",
    "        return model,r2"
   ]
  },
  {
   "cell_type": "code",
   "execution_count": 31,
   "metadata": {
    "collapsed": true
   },
   "outputs": [],
   "source": [
    "def run_linear_models(models,X,Y,nFolds,scoring,random_state=123):\n",
    "    results=[]\n",
    "    names=[]\n",
    "\n",
    "    counter=1\n",
    "        \n",
    "    for name,model in models:\n",
    "        print(\"Model %s: %s\"%(counter,model))\n",
    "        \n",
    "        kfold=KFold(n_splits=nFolds,random_state=random_state)\n",
    "        #cv_results=cross_val_score(model,X,Y,cv=kfold,scoring=\"r2\")\n",
    "        cv_results=cross_val_score(model,X,Y,cv=kfold,scoring=scoring)\n",
    "#        print(\"success!\")\n",
    "        results.append(cv_results)\n",
    "        names.append(name)\n",
    "        \n",
    "        counter+=1\n",
    "        \n",
    "    return names,results"
   ]
  },
  {
   "cell_type": "code",
   "execution_count": 32,
   "metadata": {
    "collapsed": true
   },
   "outputs": [],
   "source": [
    "def get_model_perf(X,Y,model):    \n",
    "    X_train, X_test, y_train, y_test = train_test_split(X,Y,test_size=0.2,random_state=0)\n",
    "    \n",
    "    model,r2=linear_model(model,X_train,y_train,X_test,y_test,print_graph=True,return_results=True)\n",
    "    \n",
    "    return model,r2"
   ]
  },
  {
   "cell_type": "code",
   "execution_count": 33,
   "metadata": {
    "collapsed": true
   },
   "outputs": [],
   "source": [
    "def get_tuned_param(data_name,model_name,param_type,best_params_df):\n",
    "    model_df=best_params_df[best_params_df['model']==model_name]\n",
    "    model_data_df=model_df[model_df['Data']==data_name]\n",
    "    best_param=model_data_df['best_param'][(model_data_df['param_type']==param_type)]\n",
    "    return float(best_param)"
   ]
  },
  {
   "cell_type": "code",
   "execution_count": 34,
   "metadata": {
    "collapsed": true
   },
   "outputs": [],
   "source": [
    "from sklearn.linear_model import LinearRegression,Lasso,Ridge,ElasticNet\n",
    "\n",
    "def get_tuned_model(data_desc,model_name,best_param_df):\n",
    "#    print('Tuning %s model ..... '%model_name)\n",
    "    if model_name=='linear':\n",
    "        model=LinearRegression()\n",
    "    if model_name=='ridge':\n",
    "        alpha=get_tuned_param(data_desc,model_name,'alpha',best_param_df)\n",
    "        model=Ridge(alpha=alpha,random_state=123)\n",
    "    if model_name=='lasso':\n",
    "        alpha=get_tuned_param(data_desc,model_name,'alpha',best_param_df)\n",
    "        model=Lasso(alpha=alpha,random_state=123)\n",
    "    if model_name=='eNet':\n",
    "        alpha=get_tuned_param(data_desc,model_name,'alpha',best_param_df)\n",
    "        l1_ratio=get_tuned_param(data_desc,model_name,'l1_ratio',best_param_df)\n",
    "        model=ElasticNet(alpha=alpha,l1_ratio=l1_ratio,random_state=123)\n",
    "    \n",
    "#    print('returning tuned model: ... %s ' %model)\n",
    "    return model\n"
   ]
  },
  {
   "cell_type": "code",
   "execution_count": 35,
   "metadata": {
    "collapsed": true
   },
   "outputs": [],
   "source": [
    "def run_comparisons(data_dict,model_list,best_params_df):\n",
    "    scoring='r2'\n",
    "    nFolds=10\n",
    "    \n",
    "    model_results_list=[]\n",
    "    model_names_list=[]\n",
    "    data_names_list=[]\n",
    "    \n",
    "    \n",
    "    \n",
    "    for data_name,data_item in data_dict.items():\n",
    "        optimised_models=[]\n",
    "\n",
    "        X,Y=data_item\n",
    "        print(\"===========================Processing %s  =============================\" % data_name)\n",
    "    \n",
    "        for model_name in model_list:\n",
    "            print(\"Now processing %s\" %model_name)\n",
    "            if model_name=='linear':\n",
    "                optimised_models.append(('linear',LinearRegression()))\n",
    "            if model_name=='ridge':\n",
    "                alpha=get_tuned_param(data_name,model_name,'alpha',best_params_df)\n",
    "                model=Ridge(alpha=alpha,random_state=123)\n",
    "                optimised_models.append(('ridge',model))\n",
    "            if model_name=='lasso':\n",
    "                alpha=float(get_tuned_param(data_name,model_name,'alpha',best_params_df))\n",
    "                model=Lasso(alpha=alpha,random_state=123)\n",
    "                optimised_models.append(('lasso',model))\n",
    "            if model_name=='eNet':\n",
    "                alpha=float(get_tuned_param(data_name,model_name,'alpha',best_params_df))\n",
    "                l1_ratio=float(get_tuned_param(data_name,model_name,'l1_ratio',best_params_df))\n",
    "                model=ElasticNet(alpha=alpha,l1_ratio=l1_ratio,random_state=123)\n",
    "                optimised_models.append(('eNet',model))\n",
    "            print(\"Finished Initializing model: %s\" % model_name)\n",
    "\n",
    "        print(\"===========================Running Linear Models %s  =============================\" % data_name)\n",
    "        \n",
    "        model_names,model_results=run_linear_models(optimised_models,X,Y,nFolds,scoring)\n",
    "            \n",
    "        model_names_list.append(model_names)\n",
    "        model_results_list.append(model_results)\n",
    "        data_names_list.append(data_name)\n",
    "    \n",
    "    return data_names_list,model_names_list,model_results_list          "
   ]
  },
  {
   "cell_type": "markdown",
   "metadata": {},
   "source": [
    "#### 5.2.2 Tuning Functions"
   ]
  },
  {
   "cell_type": "code",
   "execution_count": 36,
   "metadata": {
    "collapsed": true
   },
   "outputs": [],
   "source": [
    "from sklearn.linear_model import Ridge\n",
    "from sklearn.model_selection import GridSearchCV\n",
    "    \n",
    "def tune_ridge(alphas,X,Y):\n",
    "    # the default ridge model uses alpha=1.0.  The selected alphas have been based on values around this default\n",
    "    \n",
    "    model=Ridge(random_state=123)\n",
    "    #grid=GridSearchCV(estimator=model,param_grid=dict(alpha=alphas),scoring=scoring)\n",
    "    grid=GridSearchCV(estimator=model,param_grid=dict(alpha=alphas),scoring=make_scorer(r2_score))\n",
    "    grid.fit(X,Y)\n",
    "    \n",
    "    best_alpha=grid.best_estimator_.alpha\n",
    "    best_score=grid.best_score_\n",
    "    print(\"Best estimated alpha: %.8f\" % best_alpha)\n",
    "    print(\"Best score from grid: %.8f\" % best_score)\n",
    "    \n",
    "    #return grid.cv_results_\n",
    "    return grid,best_alpha,best_score\n",
    "\n",
    "\n",
    "def tune_lasso(alphas,X,Y):\n",
    "    # the default lasso model uses alpha=1.0.  The selected alphas have been based on values around this default\n",
    "    \n",
    "    model=Lasso(random_state=123)\n",
    "    #grid=GridSearchCV(estimator=model,param_grid=dict(alpha=alphas),scoring=scoring)\n",
    "    grid=GridSearchCV(estimator=model,param_grid=dict(alpha=alphas),scoring=make_scorer(r2_score))\n",
    "    grid.fit(X,Y)\n",
    "    \n",
    "    best_alpha=grid.best_estimator_.alpha\n",
    "    best_score=grid.best_score_\n",
    "    print(\"Best estimated alpha: %.8f\" % best_alpha)\n",
    "    print(\"Best score from grid: %.8f\" % best_score)\n",
    "    \n",
    "    #return grid.cv_results_\n",
    "    return grid,best_alpha,best_score\n",
    "\n",
    "def tune_eNet(alphas,l1_ratios,X,Y):\n",
    "    # the default elastic net model uses alpha=1.0 and l1_ratio=0.5.  The selected alphas have been based on values around this default\n",
    "    from sklearn.linear_model import ElasticNet\n",
    "    \n",
    "    parameters=dict(alpha=alphas,l1_ratio=l1_ratios)\n",
    "    \n",
    "    model=ElasticNet(random_state=123)\n",
    "    grid=GridSearchCV(estimator=model,param_grid=parameters,scoring=make_scorer(r2_score))\n",
    "    grid.fit(X,Y)\n",
    "    \n",
    "    best_alpha=grid.best_estimator_.alpha\n",
    "    best_l1=grid.best_estimator_.l1_ratio\n",
    "    best_score=grid.best_score_\n",
    "    print(\"Best estimated alpha: %.8f\" % best_alpha)\n",
    "    print(\"Best estimated l1_ratio: %.8f\" % best_l1)\n",
    "    print(\"Best score from grid: %.8f\" % best_score)\n",
    "    \n",
    "    #return grid.cv_results_\n",
    "    return grid,best_alpha,best_l1,best_score"
   ]
  },
  {
   "cell_type": "markdown",
   "metadata": {},
   "source": [
    "#### 5.2.3 Analyzing Tuned Networks"
   ]
  },
  {
   "cell_type": "code",
   "execution_count": 37,
   "metadata": {
    "collapsed": true
   },
   "outputs": [],
   "source": [
    "def get_param_values(grid,param):\n",
    "    item_list=[]\n",
    "    model_params=grid.cv_results_.get('params')\n",
    "    for item in model_params:\n",
    "        item_list.append(item.get(param))\n",
    "        \n",
    "    return item_list\n"
   ]
  },
  {
   "cell_type": "code",
   "execution_count": 38,
   "metadata": {
    "collapsed": true
   },
   "outputs": [],
   "source": [
    "def get_params_n_scores(grids,param_name,to_sort=True):\n",
    "    from operator import itemgetter # for sorting list of params\n",
    "    \n",
    "    params=[]\n",
    "    scores=[]\n",
    "\n",
    "    for grid in grids:\n",
    "    # get the alphas\n",
    "        params=params+list(get_param_values(grid,param_name))\n",
    "        scores=scores+list(grid.cv_results_.get('mean_test_score'))\n",
    "        \n",
    "    \n",
    "    sorted_list=[list(x) for x in zip(*sorted(zip(params, scores), key=itemgetter(0)))]\n",
    "    params_sorted=sorted_list[0]\n",
    "    scores_sorted=sorted_list[1]\n",
    "\n",
    "    if to_sort==True:\n",
    "        return params_sorted,scores_sorted\n",
    "    else:\n",
    "        return params,scores\n",
    "    \n",
    "import operator\n",
    "import matplotlib.pyplot as plt"
   ]
  },
  {
   "cell_type": "code",
   "execution_count": 39,
   "metadata": {
    "collapsed": true
   },
   "outputs": [],
   "source": [
    "def get_best_param_n_score(params,scores):\n",
    "\n",
    "#    plt.plot(params,scores)\n",
    "#    plt.xlabel('alpha')\n",
    "#    plt.ylabel('r2')\n",
    "\n",
    "    max_index, max_value = max(enumerate(scores), key=operator.itemgetter(1))\n",
    "\n",
    "    max_param=params[max_index]\n",
    "    print(\"max_value: %.12f  max_alpha: %.4f\" % (max_value,max_param))\n",
    "    \n",
    "    return max_param,max_value\n"
   ]
  },
  {
   "cell_type": "code",
   "execution_count": 40,
   "metadata": {
    "collapsed": true
   },
   "outputs": [],
   "source": [
    "def show_best_scores(data_dict,param_name,model_name,fig_x_size=15,fig_y_size=5):\n",
    "    num_items=len(data_dict)\n",
    "\n",
    "    best_names=[]\n",
    "    best_scores=[]\n",
    "    best_params=[]\n",
    "\n",
    "    num_plots=len(data_dict)\n",
    "    plot_position=1\n",
    "    \n",
    "    fig=plt.figure(figsize=(fig_x_size,fig_y_size))\n",
    "    fig.suptitle(model_name)\n",
    "    \n",
    "    for name,data_items in data_dict.items():\n",
    "        grids=data_items\n",
    "    \n",
    "        params,scores=get_params_n_scores(grids,param_name)\n",
    "        best_param,best_score=get_best_param_n_score(params,scores)\n",
    "\n",
    "        best_params.append(best_param)\n",
    "        best_scores.append(best_score)\n",
    "        best_names.append(name)\n",
    "    \n",
    "        #ax=fig.add_subplot(1,num_plots,plot_position)\n",
    "        #plot_params(params,scores,param_name,'r2',name,ax)\n",
    "        #ax.set_title(title)\n",
    "        #ax.set_ylabel(y_label)\n",
    "        #ax.set_xlabel(x_label)\n",
    "\n",
    "        plot_params(params,scores,param_name,'r2',name,plot_position,num_plots,fig)\n",
    "              \n",
    "        plot_position+=1\n",
    "    \n",
    "    fig.tight_layout()\n",
    "    fig.subplots_adjust(top=0.88)\n",
    "    #plt.show()    \n",
    "    return best_names,best_params,best_scores"
   ]
  },
  {
   "cell_type": "code",
   "execution_count": 41,
   "metadata": {
    "collapsed": true
   },
   "outputs": [],
   "source": [
    "# compile database of 'best' parameters\n",
    "\n",
    "def create_param_df(params,scores,descriptions,param_type,model_type):\n",
    "    df=pd.DataFrame(np.array(descriptions),columns=['Data'])\n",
    "    df['param_type']=np.array(param_type)\n",
    "    df['best_param']=np.array(params)\n",
    "    df['best_score']=np.array(scores)\n",
    "    df['model']=model_type\n",
    "    \n",
    "    return df"
   ]
  },
  {
   "cell_type": "markdown",
   "metadata": {},
   "source": [
    "#### 5.5 Linear Model Specific comparison and visualisation functions"
   ]
  },
  {
   "cell_type": "code",
   "execution_count": 42,
   "metadata": {
    "collapsed": true
   },
   "outputs": [],
   "source": [
    "# this function is specific for the linear model comparison dataframe which has specific columns\n",
    "def get_table(df,metric):\n",
    "    df_pivot=df.pivot(index='model type',columns='basis',values=metric)\n",
    "    return df_pivot\n",
    "\n",
    "# this function is specific for plotting the linear model comparison results as it has specific columns\n",
    "def plot_comparison(plot_df,metric,ax,have_legend=True):\n",
    "    title=plot_df['Data'].unique()[0]\n",
    "    ax.set_title(title)\n",
    "    df_pivot=plot_df.pivot(index='model type',columns='basis',values=metric)\n",
    "    df_pivot=df_pivot.reindex(['linear','lasso','ridge','eNet'])\n",
    "    #df_pivot.reindex(['linear','lasso','ridge','eNet'])\n",
    "    df_pivot.plot.bar(ax=ax,color=['red','blue'])\n",
    "    ax.set_ylabel(metric)\n",
    "    if have_legend==True:\n",
    "        ax.legend(bbox_to_anchor=(1, 1), loc='upper left', borderaxespad=0.)\n",
    "    else:\n",
    "        ax.legend_.remove()\n",
    "        \n",
    "# this function is specific for evaluating the linear model comparison dataframe which has specific columns\n",
    "def get_best_score(df,metric):\n",
    "    best_index=df[metric].argmax()\n",
    "    best_details=df.loc[best_index]\n",
    "    \n",
    "    best_model=best_details['model type']\n",
    "    best_basis=best_details['basis']\n",
    "    best_score=best_details[metric]\n",
    "    \n",
    "    return best_score,best_basis,best_model"
   ]
  },
  {
   "cell_type": "markdown",
   "metadata": {},
   "source": [
    "## 6. Neural Networks"
   ]
  },
  {
   "cell_type": "code",
   "execution_count": 43,
   "metadata": {},
   "outputs": [
    {
     "name": "stderr",
     "output_type": "stream",
     "text": [
      "Using TensorFlow backend.\n"
     ]
    }
   ],
   "source": [
    "from keras.models import Sequential\n",
    "from keras.layers import Dense\n",
    "import numpy\n",
    "from keras.wrappers.scikit_learn import KerasRegressor\n",
    "from sklearn.pipeline import Pipeline\n",
    "from sklearn.model_selection import cross_val_score, KFold\n",
    "\n",
    "# baseline model has a single fully connected hidden layer with the same number of neurons as inputs.\n",
    "# it also uses the rectifier activation function for the hidden layer.\n",
    "# the output layer has no activation function as this is a regression problem and we do not want to \n",
    "# transform the predicted values.  The ADAM optimization algorithm is used, and the mean squared error \n",
    "# loss function is optimized.\n",
    "\n",
    "def NN_baseModel(num_inputs,num_hidden_layers=1):\n",
    "    numpy.random.seed(123)\n",
    "    \n",
    "    model=Sequential()\n",
    "    model.add(Dense(num_inputs,input_dim=num_inputs,kernel_initializer='normal',activation='relu'))\n",
    "    \n",
    "    hidden_layer_count=0\n",
    "    \n",
    "    while hidden_layer_count<num_hidden_layers:\n",
    "        model.add(Dense(num_inputs,init='normal',activation='relu'))\n",
    "        hidden_layer_count+=1\n",
    "    \n",
    "    model.add(Dense(1,init='normal'))\n",
    "    \n",
    "    model.compile(loss='mean_squared_error',optimizer='adam',metrics=[])\n",
    "    \n",
    "    return model\n",
    "\n",
    "def run_NN_baseModel(X_train,y_train,X_test,y_test,num_epochs,batchSize,num_hidden_layers):\n",
    "    np.random.seed(123)\n",
    "    num_vars=X_train.shape[1]\n",
    "    \n",
    "    model=NN_baseModel(num_vars,num_hidden_layers)\n",
    "    \n",
    "    estimator=KerasRegressor(build_fn=NN_baseModel(num_vars,num_hidden_layers),epochs=num_epochs,batch_size=batchSize,verbose=0)\n",
    "    \n",
    "    kFold=KFold(n_splits=10,random_state=123)\n",
    "    \n",
    "    cv_results=cross_val_score(estimator,X_train,y_train,cv=kFold)\n",
    "    \n",
    "    model.fit(X_train,y_train,epochs=num_epochs,batch_size=batchSize)\n",
    "    score=model.evaluate(X_test,y_test,batch_size=batchSize)\n",
    "    \n",
    "    return model,score,cv_results\n",
    "\n",
    "def run_NN_(num_inputs,X,Y,num_hidden_layers=1):\n",
    "\n",
    "    # Evaluate baseline model\n",
    "    estimator=KerasRegressor(build_fn=NN_baseline(num_inputs,num_hidden_layers),nb_epoch=5,batch_size=100,verbose=0)\n",
    "\n",
    "    kfold=KFold(n_splits=10,random_state=123)\n",
    "    results=cross_val_score(estimator,X,Y,cv=kfold)\n",
    "\n",
    "    print(\"Baseline model results\\n mean: %.8f   stdev: %.8f\" % (results.mean(),results.std()))\n",
    "    \n",
    "    return results,estimator\n",
    "\n",
    "#############################################\n",
    "\n",
    "from sklearn.model_selection import KFold\n",
    "\n",
    "def cross_val(model,X,Y,num_epochs,batchSize,n_splits=10,random_state=123,verbose=False):\n",
    "\n",
    "    kFold=KFold(n_splits=n_splits,random_state=random_state,shuffle=True)\n",
    "\n",
    "    models=[]\n",
    "    scores=[]\n",
    "    for train_index,test_index in kFold.split(X,Y):\n",
    "        X_train=X.iloc[train_index]\n",
    "        y_train=Y.iloc[train_index]\n",
    "        X_test=X.iloc[test_index]\n",
    "        y_test=Y.iloc[test_index]\n",
    "        #print(\"X_Train:\",X_train.shape,\"y_train: \",y_train.shape,\"x_test:\",y_test.shape)\n",
    "        \n",
    "        model.fit(np.array(X_train),np.array(y_train),epochs=num_epochs,batch_size=batchSize,verbose=verbose)\n",
    "        score=model.evaluate(np.array(X_test),np.array(y_test),batch_size=batchSize)\n",
    "    \n",
    "        models.append(model)\n",
    "        scores.append(score)\n",
    "    return models,scores\n",
    "\n",
    "# returns a neural network with the specified number of hidden layers\n",
    "def run_NN(X_train,y_train,X_test,y_test,num_epochs,batchSize,num_hidden_layers,random_state=123,verbose=False):\n",
    "    np.random.seed(random_state)\n",
    "    num_vars=X_train.shape[1]\n",
    "    \n",
    "    model=NN_baseModel(num_vars,num_hidden_layers)\n",
    "\n",
    "    model.fit(np.array(X_train),np.array(y_train),epochs=num_epochs,batch_size=batchSize,verbose=verbose)\n",
    "    score=model.evaluate(np.array(X_test),np.array(y_test),batch_size=batchSize)\n",
    "\n",
    "    cv_models,cv_scores=cross_val(model=model,X=X_train,Y=y_train,num_epochs=num_epochs,batchSize=batchSize,random_state=random_state,n_splits=10,verbose=verbose)\n",
    "    print(\"Model r2 scores\\n mean: %.8f   stdev: %.8f\" % (np.mean(cv_scores),np.std(cv_scores)))\n",
    "    \n",
    "    return model,score,cv_models,cv_scores\n",
    "    "
   ]
  },
  {
   "cell_type": "markdown",
   "metadata": {
    "collapsed": true
   },
   "source": [
    "### 6.1 NN Visualisations and Comparison Functions"
   ]
  },
  {
   "cell_type": "code",
   "execution_count": 44,
   "metadata": {
    "collapsed": true
   },
   "outputs": [],
   "source": [
    "# this function is specific for the neural network model comparison dataframe which has specific columns\n",
    "def nn_plot(plot_data,ax,title,have_legend=False):\n",
    "    plot_df=pd.DataFrame(dict(zip(list(plot_data['Hidden Layers']),list(plot_data['cv_scores']))))\n",
    "    \n",
    "    ax=plot_df.boxplot()\n",
    "    ax.plot(plot_data['Hidden Layers'],plot_data['test_mse'],'r.')\n",
    "    \n",
    "    ax.grid(False)\n",
    "    ax.set_xlabel('Hidden Layers')\n",
    "    ax.set_ylabel('mse')\n",
    "    ax.set_title(title)\n",
    "    \n",
    "    if have_legend==True:\n",
    "        ax.legend(bbox_to_anchor=(1, 1), loc='upper left', borderaxespad=0.)\n",
    "#    else:\n",
    "#        ax.legend_.remove()"
   ]
  },
  {
   "cell_type": "code",
   "execution_count": 45,
   "metadata": {
    "collapsed": true
   },
   "outputs": [],
   "source": [
    "def get_best_score_nn(df,metric):\n",
    "    best_index=df[metric].argmin()\n",
    "    \n",
    "    best_score=df.loc[best_index][metric]\n",
    "    best_model=df.loc[best_index]['Hidden Layers']\n",
    "    best_basis=df.loc[best_index]['Data Source']\n",
    "    \n",
    "    return best_score,best_basis,best_model"
   ]
  },
  {
   "cell_type": "markdown",
   "metadata": {},
   "source": [
    "# 1. Analysis"
   ]
  },
  {
   "cell_type": "markdown",
   "metadata": {},
   "source": [
    "## 1.1 Feature Importance\n",
    "As there are a large number of features if we apply one hot encoding to the identified categorical variables, in this section I run a few indicative models to see what the important features are."
   ]
  },
  {
   "cell_type": "markdown",
   "metadata": {},
   "source": [
    "#### Prepare data for determining feature importance"
   ]
  },
  {
   "cell_type": "code",
   "execution_count": 46,
   "metadata": {
    "collapsed": true
   },
   "outputs": [],
   "source": [
    "from sklearn.cross_validation import train_test_split\n",
    " \n",
    "X_all=process_features(train_enhanced[categorical_vars.columns],train_enhanced[non_categorical_vars.columns])\n",
    "Y_all=train_enhanced['logerror']\n",
    "\n",
    "# Shuffle and split the data into training and testing subsets\n",
    "X_all_train, X_all_test, y_all_train, y_all_test = train_test_split(X_all,Y_all,test_size=0.2,random_state=123)"
   ]
  },
  {
   "cell_type": "code",
   "execution_count": 47,
   "metadata": {
    "collapsed": true
   },
   "outputs": [],
   "source": [
    "X_all_standardized=standardize_data(X_all)\n",
    "\n",
    "# Shuffle and split the data into training and testing subsets\n",
    "X_all_standardized_train, X_all_standardized_test, y_all_standardized_train, y_all_standardized_test = train_test_split(X_all_standardized,Y_all,test_size=0.2,random_state=123)"
   ]
  },
  {
   "cell_type": "code",
   "execution_count": 48,
   "metadata": {
    "collapsed": true
   },
   "outputs": [],
   "source": [
    "X_all_normalized=normalize_data(X_all)\n",
    "\n",
    "# Shuffle and split the data into training and testing subsets\n",
    "X_all_normalized_train, X_all_normalized_test, y_all_normalized_train, y_all_normalized_test = \\\n",
    "train_test_split(X_all_normalized,Y_all,test_size=0.2,random_state=123)"
   ]
  },
  {
   "cell_type": "markdown",
   "metadata": {},
   "source": [
    "### 1.1.1 XGBoost"
   ]
  },
  {
   "cell_type": "code",
   "execution_count": 49,
   "metadata": {
    "collapsed": true
   },
   "outputs": [],
   "source": [
    "import os\n",
    "mingw_path='C:\\\\Program Files\\\\mingw-w64\\\\x86_64-7.1.0-posix-seh-rt_v5-rev1\\\\mingw64\\\\bin'\n",
    "os.environ['PATH']=mingw_path + ';' + os.environ['PATH']"
   ]
  },
  {
   "cell_type": "code",
   "execution_count": 50,
   "metadata": {
    "collapsed": true,
    "scrolled": true
   },
   "outputs": [],
   "source": [
    "from sklearn import model_selection, preprocessing\n",
    "import xgboost as xgb\n",
    "import warnings\n",
    "warnings.filterwarnings(\"ignore\")\n",
    "    \n",
    "#train_y = trainFilterd.logerror.values\n",
    "##train_X = trainFilterd.drop([\"parcelid\", \"transactiondate\", \"logerror\",\"abs_logerror\"], axis=1)\n",
    "#train_X = trainFilterd.drop([\"logerror\",\"abs_logerror\"], axis=1)\n",
    "\n",
    "xgb_params = {\n",
    "    'eta': 0.05,\n",
    "    'max_depth': 8,\n",
    "    'subsample': 0.7,\n",
    "    'colsample_bytree': 0.7,\n",
    "    'objective': 'reg:linear',\n",
    "    'eval_metric': 'rmse',\n",
    "    'silent': 1\n",
    "}\n"
   ]
  },
  {
   "cell_type": "code",
   "execution_count": 51,
   "metadata": {
    "scrolled": true
   },
   "outputs": [
    {
     "name": "stdout",
     "output_type": "stream",
     "text": [
      "Number of features in training data: 3233\n",
      "\n",
      "Results from Booster: \n",
      "\n",
      "r2 score: 0.01047186\n",
      "\n",
      "MSE (model vs baseline): 0.02438002 vs 0.02463887\n",
      "\n",
      "Number of features in training data: 3233\n",
      "\n",
      "Results from Booster: \n",
      "\n",
      "r2 score: 0.01027348\n",
      "\n",
      "MSE (model vs baseline): 0.02438491 vs 0.02463887\n",
      "\n"
     ]
    }
   ],
   "source": [
    "data_desc=[]\n",
    "xgb_models=[]\n",
    "xgb_test_preds=[]\n",
    "xgb_train_preds=[]\n",
    "\n",
    "data_dict={'X_all':[X_all_train,y_all_train,X_all_test,y_all_test],\n",
    "          'X_all_standardized':[X_all_standardized_train,y_all_train,X_all_standardized_test,y_all_test]}   \n",
    "\n",
    "for name,data_items in data_dict.items():\n",
    "    X_train,y_train,X_test,y_test=data_items\n",
    "    \n",
    "    model=train_xgb(X_train,y_train)\n",
    "    \n",
    "    data_desc.append(name)\n",
    "    xgb_models.append(model)\n",
    "    \n",
    "    test_pred,train_pred=evaluate_xgb(X_test,y_test,X_train,y_train,model)\n",
    "    \n",
    "    xgb_test_preds.append(test_pred)\n",
    "    xgb_train_preds.append(train_pred)\n",
    "    "
   ]
  },
  {
   "cell_type": "markdown",
   "metadata": {},
   "source": [
    "**Comment**: Standardising seems to make very little difference to the r2 score.  This is not surprising as gradient boosted trees are generally scale invariant."
   ]
  },
  {
   "cell_type": "code",
   "execution_count": 52,
   "metadata": {
    "scrolled": true
   },
   "outputs": [
    {
     "data": {
      "text/html": [
       "<div>\n",
       "<style>\n",
       "    .dataframe thead tr:only-child th {\n",
       "        text-align: right;\n",
       "    }\n",
       "\n",
       "    .dataframe thead th {\n",
       "        text-align: left;\n",
       "    }\n",
       "\n",
       "    .dataframe tbody tr th {\n",
       "        vertical-align: top;\n",
       "    }\n",
       "</style>\n",
       "<table border=\"1\" class=\"dataframe\">\n",
       "  <thead>\n",
       "    <tr style=\"text-align: right;\">\n",
       "      <th></th>\n",
       "      <th>Item</th>\n",
       "      <th>Importance</th>\n",
       "    </tr>\n",
       "  </thead>\n",
       "  <tbody>\n",
       "    <tr>\n",
       "      <th>149</th>\n",
       "      <td>transaction_mth</td>\n",
       "      <td>286</td>\n",
       "    </tr>\n",
       "    <tr>\n",
       "      <th>200</th>\n",
       "      <td>transaction_day</td>\n",
       "      <td>217</td>\n",
       "    </tr>\n",
       "    <tr>\n",
       "      <th>271</th>\n",
       "      <td>calc_tot_living_area</td>\n",
       "      <td>168</td>\n",
       "    </tr>\n",
       "    <tr>\n",
       "      <th>253</th>\n",
       "      <td>lot_area</td>\n",
       "      <td>132</td>\n",
       "    </tr>\n",
       "    <tr>\n",
       "      <th>38</th>\n",
       "      <td>tot_property_tax</td>\n",
       "      <td>131</td>\n",
       "    </tr>\n",
       "    <tr>\n",
       "      <th>292</th>\n",
       "      <td>longitude</td>\n",
       "      <td>130</td>\n",
       "    </tr>\n",
       "    <tr>\n",
       "      <th>207</th>\n",
       "      <td>structure_tax_value</td>\n",
       "      <td>117</td>\n",
       "    </tr>\n",
       "    <tr>\n",
       "      <th>234</th>\n",
       "      <td>latitude</td>\n",
       "      <td>111</td>\n",
       "    </tr>\n",
       "    <tr>\n",
       "      <th>230</th>\n",
       "      <td>finished_living_area</td>\n",
       "      <td>96</td>\n",
       "    </tr>\n",
       "    <tr>\n",
       "      <th>208</th>\n",
       "      <td>bldg_age</td>\n",
       "      <td>89</td>\n",
       "    </tr>\n",
       "    <tr>\n",
       "      <th>233</th>\n",
       "      <td>land_tax_value</td>\n",
       "      <td>88</td>\n",
       "    </tr>\n",
       "    <tr>\n",
       "      <th>96</th>\n",
       "      <td>parcel_tax_value</td>\n",
       "      <td>85</td>\n",
       "    </tr>\n",
       "    <tr>\n",
       "      <th>257</th>\n",
       "      <td>num_bathroom</td>\n",
       "      <td>67</td>\n",
       "    </tr>\n",
       "    <tr>\n",
       "      <th>268</th>\n",
       "      <td>air_cond_type_1.0</td>\n",
       "      <td>51</td>\n",
       "    </tr>\n",
       "    <tr>\n",
       "      <th>192</th>\n",
       "      <td>num_bedroom</td>\n",
       "      <td>41</td>\n",
       "    </tr>\n",
       "    <tr>\n",
       "      <th>170</th>\n",
       "      <td>city_id_24797.0</td>\n",
       "      <td>37</td>\n",
       "    </tr>\n",
       "    <tr>\n",
       "      <th>159</th>\n",
       "      <td>neighborhood_id_36630.0</td>\n",
       "      <td>37</td>\n",
       "    </tr>\n",
       "    <tr>\n",
       "      <th>92</th>\n",
       "      <td>land_use_desc_LCA11000*</td>\n",
       "      <td>37</td>\n",
       "    </tr>\n",
       "    <tr>\n",
       "      <th>314</th>\n",
       "      <td>county_land_use_code_1722</td>\n",
       "      <td>33</td>\n",
       "    </tr>\n",
       "    <tr>\n",
       "      <th>329</th>\n",
       "      <td>neighborhood_id_403193.0</td>\n",
       "      <td>31</td>\n",
       "    </tr>\n",
       "    <tr>\n",
       "      <th>239</th>\n",
       "      <td>bldg_condition</td>\n",
       "      <td>30</td>\n",
       "    </tr>\n",
       "    <tr>\n",
       "      <th>315</th>\n",
       "      <td>county_land_use_code_0100</td>\n",
       "      <td>28</td>\n",
       "    </tr>\n",
       "    <tr>\n",
       "      <th>148</th>\n",
       "      <td>total_area</td>\n",
       "      <td>25</td>\n",
       "    </tr>\n",
       "    <tr>\n",
       "      <th>76</th>\n",
       "      <td>heating_type_3.92697931526</td>\n",
       "      <td>24</td>\n",
       "    </tr>\n",
       "    <tr>\n",
       "      <th>223</th>\n",
       "      <td>neighborhood_id_268496.0</td>\n",
       "      <td>23</td>\n",
       "    </tr>\n",
       "    <tr>\n",
       "      <th>342</th>\n",
       "      <td>air_cond_type_1.81637191203</td>\n",
       "      <td>23</td>\n",
       "    </tr>\n",
       "    <tr>\n",
       "      <th>42</th>\n",
       "      <td>tax_delinqncy_flag_NA</td>\n",
       "      <td>20</td>\n",
       "    </tr>\n",
       "    <tr>\n",
       "      <th>7</th>\n",
       "      <td>land_use_desc_RHRAS1</td>\n",
       "      <td>20</td>\n",
       "    </tr>\n",
       "    <tr>\n",
       "      <th>300</th>\n",
       "      <td>county_land_use_code_01DD</td>\n",
       "      <td>19</td>\n",
       "    </tr>\n",
       "    <tr>\n",
       "      <th>117</th>\n",
       "      <td>land_use_desc_LCRAL*</td>\n",
       "      <td>19</td>\n",
       "    </tr>\n",
       "    <tr>\n",
       "      <th>...</th>\n",
       "      <td>...</td>\n",
       "      <td>...</td>\n",
       "    </tr>\n",
       "    <tr>\n",
       "      <th>255</th>\n",
       "      <td>zip_code_96010.0</td>\n",
       "      <td>1</td>\n",
       "    </tr>\n",
       "    <tr>\n",
       "      <th>109</th>\n",
       "      <td>neighborhood_id_54300.0</td>\n",
       "      <td>1</td>\n",
       "    </tr>\n",
       "    <tr>\n",
       "      <th>104</th>\n",
       "      <td>city_id_38032.0</td>\n",
       "      <td>1</td>\n",
       "    </tr>\n",
       "    <tr>\n",
       "      <th>102</th>\n",
       "      <td>zip_code_96127.0</td>\n",
       "      <td>1</td>\n",
       "    </tr>\n",
       "    <tr>\n",
       "      <th>118</th>\n",
       "      <td>neighborhood_id_274895.0</td>\n",
       "      <td>1</td>\n",
       "    </tr>\n",
       "    <tr>\n",
       "      <th>263</th>\n",
       "      <td>zip_code_96346.0</td>\n",
       "      <td>1</td>\n",
       "    </tr>\n",
       "    <tr>\n",
       "      <th>101</th>\n",
       "      <td>zip_code_97059.0</td>\n",
       "      <td>1</td>\n",
       "    </tr>\n",
       "    <tr>\n",
       "      <th>188</th>\n",
       "      <td>zip_code_97328.0</td>\n",
       "      <td>1</td>\n",
       "    </tr>\n",
       "    <tr>\n",
       "      <th>97</th>\n",
       "      <td>zip_code_96090.0</td>\n",
       "      <td>1</td>\n",
       "    </tr>\n",
       "    <tr>\n",
       "      <th>267</th>\n",
       "      <td>land_use_desc_LCA106</td>\n",
       "      <td>1</td>\n",
       "    </tr>\n",
       "    <tr>\n",
       "      <th>95</th>\n",
       "      <td>land_use_desc_LRR6000*</td>\n",
       "      <td>1</td>\n",
       "    </tr>\n",
       "    <tr>\n",
       "      <th>250</th>\n",
       "      <td>land_use_desc_LARE11</td>\n",
       "      <td>1</td>\n",
       "    </tr>\n",
       "    <tr>\n",
       "      <th>248</th>\n",
       "      <td>land_use_desc_WAR17200*</td>\n",
       "      <td>1</td>\n",
       "    </tr>\n",
       "    <tr>\n",
       "      <th>229</th>\n",
       "      <td>zip_code_96208.0</td>\n",
       "      <td>1</td>\n",
       "    </tr>\n",
       "    <tr>\n",
       "      <th>237</th>\n",
       "      <td>county_land_use_code_0104</td>\n",
       "      <td>1</td>\n",
       "    </tr>\n",
       "    <tr>\n",
       "      <th>140</th>\n",
       "      <td>neighborhood_id_48570.0</td>\n",
       "      <td>1</td>\n",
       "    </tr>\n",
       "    <tr>\n",
       "      <th>231</th>\n",
       "      <td>land_use_desc_LCR3YY</td>\n",
       "      <td>1</td>\n",
       "    </tr>\n",
       "    <tr>\n",
       "      <th>139</th>\n",
       "      <td>land_use_desc_LCRA7000*</td>\n",
       "      <td>1</td>\n",
       "    </tr>\n",
       "    <tr>\n",
       "      <th>137</th>\n",
       "      <td>land_use_desc_GLR4*</td>\n",
       "      <td>1</td>\n",
       "    </tr>\n",
       "    <tr>\n",
       "      <th>135</th>\n",
       "      <td>neighborhood_id_268162.0</td>\n",
       "      <td>1</td>\n",
       "    </tr>\n",
       "    <tr>\n",
       "      <th>132</th>\n",
       "      <td>land_use_desc_SOR109*</td>\n",
       "      <td>1</td>\n",
       "    </tr>\n",
       "    <tr>\n",
       "      <th>131</th>\n",
       "      <td>neighborhood_id_19810.0</td>\n",
       "      <td>1</td>\n",
       "    </tr>\n",
       "    <tr>\n",
       "      <th>119</th>\n",
       "      <td>land_use_desc_LCRA75</td>\n",
       "      <td>1</td>\n",
       "    </tr>\n",
       "    <tr>\n",
       "      <th>130</th>\n",
       "      <td>county_land_use_code_010H</td>\n",
       "      <td>1</td>\n",
       "    </tr>\n",
       "    <tr>\n",
       "      <th>241</th>\n",
       "      <td>neighborhood_id_275340.0</td>\n",
       "      <td>1</td>\n",
       "    </tr>\n",
       "    <tr>\n",
       "      <th>128</th>\n",
       "      <td>city_id_19177.0</td>\n",
       "      <td>1</td>\n",
       "    </tr>\n",
       "    <tr>\n",
       "      <th>127</th>\n",
       "      <td>zip_code_96368.0</td>\n",
       "      <td>1</td>\n",
       "    </tr>\n",
       "    <tr>\n",
       "      <th>244</th>\n",
       "      <td>zip_code_97043.0</td>\n",
       "      <td>1</td>\n",
       "    </tr>\n",
       "    <tr>\n",
       "      <th>121</th>\n",
       "      <td>city_id_6822.0</td>\n",
       "      <td>1</td>\n",
       "    </tr>\n",
       "    <tr>\n",
       "      <th>343</th>\n",
       "      <td>zip_code_96012.0</td>\n",
       "      <td>1</td>\n",
       "    </tr>\n",
       "  </tbody>\n",
       "</table>\n",
       "<p>344 rows × 2 columns</p>\n",
       "</div>"
      ],
      "text/plain": [
       "                            Item  Importance\n",
       "149              transaction_mth         286\n",
       "200              transaction_day         217\n",
       "271         calc_tot_living_area         168\n",
       "253                     lot_area         132\n",
       "38              tot_property_tax         131\n",
       "292                    longitude         130\n",
       "207          structure_tax_value         117\n",
       "234                     latitude         111\n",
       "230         finished_living_area          96\n",
       "208                     bldg_age          89\n",
       "233               land_tax_value          88\n",
       "96              parcel_tax_value          85\n",
       "257                 num_bathroom          67\n",
       "268            air_cond_type_1.0          51\n",
       "192                  num_bedroom          41\n",
       "170              city_id_24797.0          37\n",
       "159      neighborhood_id_36630.0          37\n",
       "92       land_use_desc_LCA11000*          37\n",
       "314    county_land_use_code_1722          33\n",
       "329     neighborhood_id_403193.0          31\n",
       "239               bldg_condition          30\n",
       "315    county_land_use_code_0100          28\n",
       "148                   total_area          25\n",
       "76    heating_type_3.92697931526          24\n",
       "223     neighborhood_id_268496.0          23\n",
       "342  air_cond_type_1.81637191203          23\n",
       "42         tax_delinqncy_flag_NA          20\n",
       "7           land_use_desc_RHRAS1          20\n",
       "300    county_land_use_code_01DD          19\n",
       "117         land_use_desc_LCRAL*          19\n",
       "..                           ...         ...\n",
       "255             zip_code_96010.0           1\n",
       "109      neighborhood_id_54300.0           1\n",
       "104              city_id_38032.0           1\n",
       "102             zip_code_96127.0           1\n",
       "118     neighborhood_id_274895.0           1\n",
       "263             zip_code_96346.0           1\n",
       "101             zip_code_97059.0           1\n",
       "188             zip_code_97328.0           1\n",
       "97              zip_code_96090.0           1\n",
       "267         land_use_desc_LCA106           1\n",
       "95        land_use_desc_LRR6000*           1\n",
       "250         land_use_desc_LARE11           1\n",
       "248      land_use_desc_WAR17200*           1\n",
       "229             zip_code_96208.0           1\n",
       "237    county_land_use_code_0104           1\n",
       "140      neighborhood_id_48570.0           1\n",
       "231         land_use_desc_LCR3YY           1\n",
       "139      land_use_desc_LCRA7000*           1\n",
       "137          land_use_desc_GLR4*           1\n",
       "135     neighborhood_id_268162.0           1\n",
       "132        land_use_desc_SOR109*           1\n",
       "131      neighborhood_id_19810.0           1\n",
       "119         land_use_desc_LCRA75           1\n",
       "130    county_land_use_code_010H           1\n",
       "241     neighborhood_id_275340.0           1\n",
       "128              city_id_19177.0           1\n",
       "127             zip_code_96368.0           1\n",
       "244             zip_code_97043.0           1\n",
       "121               city_id_6822.0           1\n",
       "343             zip_code_96012.0           1\n",
       "\n",
       "[344 rows x 2 columns]"
      ]
     },
     "execution_count": 52,
     "metadata": {},
     "output_type": "execute_result"
    }
   ],
   "source": [
    "importance =xgb_models[0].get_fscore()\n",
    "xgbFeatures=pd.DataFrame(list(importance.items()), columns=['Item', 'Importance'])\n",
    "xgbFeatures=xgbFeatures.sort_values(by=['Importance'],ascending=False)\n",
    "xgbFeatures"
   ]
  },
  {
   "cell_type": "code",
   "execution_count": 53,
   "metadata": {},
   "outputs": [
    {
     "data": {
      "text/plain": [
       "(344, 2)"
      ]
     },
     "execution_count": 53,
     "metadata": {},
     "output_type": "execute_result"
    }
   ],
   "source": [
    "xgbFeatures.shape"
   ]
  },
  {
   "cell_type": "code",
   "execution_count": 54,
   "metadata": {
    "scrolled": true
   },
   "outputs": [
    {
     "data": {
      "text/plain": [
       "<matplotlib.axes._subplots.AxesSubplot at 0x25a00629dd8>"
      ]
     },
     "execution_count": 54,
     "metadata": {},
     "output_type": "execute_result"
    },
    {
     "data": {
      "image/png": "[encoded data removed]",
      "text/plain": [
       "<matplotlib.figure.Figure at 0x25a096157b8>"
      ]
     },
     "metadata": {},
     "output_type": "display_data"
    }
   ],
   "source": [
    "from xgboost import plot_importance\n",
    "\n",
    "fig, ax = plt.subplots(figsize=(20,10))\n",
    "plot_importance(booster=xgb_models[0],max_num_features=50, ax=ax)"
   ]
  },
  {
   "cell_type": "markdown",
   "metadata": {},
   "source": [
    "### 1.1.2 Random Forest"
   ]
  },
  {
   "cell_type": "code",
   "execution_count": 55,
   "metadata": {
    "scrolled": true
   },
   "outputs": [
    {
     "name": "stdout",
     "output_type": "stream",
     "text": [
      "\n",
      "Results from RandomForestRegressor: \n",
      "\n",
      "r2 score: -0.16432368\n",
      "\n",
      "MSE (model vs baseline): 0.02868664 vs 0.02463887\n",
      "\n",
      "\n",
      "Results from RandomForestRegressor: \n",
      "\n",
      "r2 score: -0.16178354\n",
      "\n",
      "MSE (model vs baseline): 0.02862406 vs 0.02463887\n",
      "\n"
     ]
    }
   ],
   "source": [
    "from sklearn.ensemble import RandomForestRegressor\n",
    "\n",
    "rf_data_desc=[]\n",
    "rf_models=[]\n",
    "rf_test_preds=[]\n",
    "rf_train_preds=[]\n",
    "\n",
    "data_dict={'X_all':[X_all_train,y_all_train,X_all_test,y_all_test],\n",
    "          'X_all_standardized':[X_all_standardized_train,y_all_train,X_all_standardized_test,y_all_test]}   \n",
    "\n",
    "for name,data_items in data_dict.items():\n",
    "    X_train,y_train,X_test,y_test=data_items\n",
    "    \n",
    "    model=RandomForestRegressor()\n",
    "    model.fit(X_train,y_train)\n",
    "\n",
    "    rf_data_desc.append(name)\n",
    "    rf_models.append(model)\n",
    "    \n",
    "    rf_test_pred,rf_train_pred=evaluate_model(X_test,y_test,X_train,y_train,model)\n",
    "    \n",
    "    #rf_test_pred=model.predict(X_test)\n",
    "    #rf_train_pred=model.predict(X_test)\n",
    "    \n",
    "    rf_test_preds.append(rf_test_pred)\n",
    "    rf_train_preds.append(rf_train_pred)\n",
    "\n",
    "#train_y = trainFilterd.logerror.values\n",
    "#train_X = trainFilterd.drop([\"logerror\",\"abs_logerror\"], axis=1)\n",
    "\n",
    "#forestModel=RandomForestRegressor()\n",
    "#forestModel.fit(X_all_train,y_all_train)\n",
    "\n",
    "#names=X_all_train.columns\n",
    "\n",
    "# print(\"Features sorted by their score:\")\n",
    "# print(sorted(zip(map(lambda x: round(x, 4), forestModel.feature_importances_), names), reverse=True))"
   ]
  },
  {
   "cell_type": "markdown",
   "metadata": {},
   "source": [
    "**Comment:** Random forest model performs very poorly as seen by the negative r2 scores and the MSE values which are higher than the baseline."
   ]
  },
  {
   "cell_type": "markdown",
   "metadata": {},
   "source": [
    "#### Random Forest on X_all"
   ]
  },
  {
   "cell_type": "code",
   "execution_count": 56,
   "metadata": {
    "scrolled": true
   },
   "outputs": [
    {
     "data": {
      "text/html": [
       "<div>\n",
       "<style>\n",
       "    .dataframe thead tr:only-child th {\n",
       "        text-align: right;\n",
       "    }\n",
       "\n",
       "    .dataframe thead th {\n",
       "        text-align: left;\n",
       "    }\n",
       "\n",
       "    .dataframe tbody tr th {\n",
       "        vertical-align: top;\n",
       "    }\n",
       "</style>\n",
       "<table border=\"1\" class=\"dataframe\">\n",
       "  <thead>\n",
       "    <tr style=\"text-align: right;\">\n",
       "      <th></th>\n",
       "      <th>Feature</th>\n",
       "      <th>Importance</th>\n",
       "    </tr>\n",
       "  </thead>\n",
       "  <tbody>\n",
       "    <tr>\n",
       "      <th>3200</th>\n",
       "      <td>transaction_day</td>\n",
       "      <td>0.062576</td>\n",
       "    </tr>\n",
       "    <tr>\n",
       "      <th>3227</th>\n",
       "      <td>structure_tax_value</td>\n",
       "      <td>0.057933</td>\n",
       "    </tr>\n",
       "    <tr>\n",
       "      <th>3217</th>\n",
       "      <td>latitude</td>\n",
       "      <td>0.053093</td>\n",
       "    </tr>\n",
       "    <tr>\n",
       "      <th>3230</th>\n",
       "      <td>tot_property_tax</td>\n",
       "      <td>0.052673</td>\n",
       "    </tr>\n",
       "    <tr>\n",
       "      <th>3218</th>\n",
       "      <td>longitude</td>\n",
       "      <td>0.052278</td>\n",
       "    </tr>\n",
       "    <tr>\n",
       "      <th>3199</th>\n",
       "      <td>transaction_mth</td>\n",
       "      <td>0.051086</td>\n",
       "    </tr>\n",
       "    <tr>\n",
       "      <th>3229</th>\n",
       "      <td>land_tax_value</td>\n",
       "      <td>0.049338</td>\n",
       "    </tr>\n",
       "    <tr>\n",
       "      <th>3219</th>\n",
       "      <td>lot_area</td>\n",
       "      <td>0.045692</td>\n",
       "    </tr>\n",
       "    <tr>\n",
       "      <th>3228</th>\n",
       "      <td>parcel_tax_value</td>\n",
       "      <td>0.044661</td>\n",
       "    </tr>\n",
       "    <tr>\n",
       "      <th>3207</th>\n",
       "      <td>calc_tot_living_area</td>\n",
       "      <td>0.043477</td>\n",
       "    </tr>\n",
       "    <tr>\n",
       "      <th>3231</th>\n",
       "      <td>bldg_age</td>\n",
       "      <td>0.042412</td>\n",
       "    </tr>\n",
       "    <tr>\n",
       "      <th>3208</th>\n",
       "      <td>finished_living_area</td>\n",
       "      <td>0.037627</td>\n",
       "    </tr>\n",
       "    <tr>\n",
       "      <th>3203</th>\n",
       "      <td>num_bedroom</td>\n",
       "      <td>0.014855</td>\n",
       "    </tr>\n",
       "    <tr>\n",
       "      <th>3216</th>\n",
       "      <td>total_garage_area</td>\n",
       "      <td>0.008401</td>\n",
       "    </tr>\n",
       "    <tr>\n",
       "      <th>3210</th>\n",
       "      <td>total_area</td>\n",
       "      <td>0.006300</td>\n",
       "    </tr>\n",
       "    <tr>\n",
       "      <th>3205</th>\n",
       "      <td>calc_num_bathroom</td>\n",
       "      <td>0.006260</td>\n",
       "    </tr>\n",
       "    <tr>\n",
       "      <th>3202</th>\n",
       "      <td>num_bathroom</td>\n",
       "      <td>0.005726</td>\n",
       "    </tr>\n",
       "    <tr>\n",
       "      <th>3214</th>\n",
       "      <td>num_full_bathrms</td>\n",
       "      <td>0.005423</td>\n",
       "    </tr>\n",
       "    <tr>\n",
       "      <th>1258</th>\n",
       "      <td>land_use_desc_LCA11000*</td>\n",
       "      <td>0.004915</td>\n",
       "    </tr>\n",
       "    <tr>\n",
       "      <th>3204</th>\n",
       "      <td>bldg_condition</td>\n",
       "      <td>0.004710</td>\n",
       "    </tr>\n",
       "    <tr>\n",
       "      <th>3211</th>\n",
       "      <td>1st_flr_finished_area</td>\n",
       "      <td>0.004612</td>\n",
       "    </tr>\n",
       "    <tr>\n",
       "      <th>3232</th>\n",
       "      <td>tax_delinqncy_age</td>\n",
       "      <td>0.004476</td>\n",
       "    </tr>\n",
       "    <tr>\n",
       "      <th>3224</th>\n",
       "      <td>patio</td>\n",
       "      <td>0.004084</td>\n",
       "    </tr>\n",
       "    <tr>\n",
       "      <th>142</th>\n",
       "      <td>zip_code_96181.0</td>\n",
       "      <td>0.004061</td>\n",
       "    </tr>\n",
       "    <tr>\n",
       "      <th>2839</th>\n",
       "      <td>neighborhood_id_268496.0</td>\n",
       "      <td>0.003406</td>\n",
       "    </tr>\n",
       "    <tr>\n",
       "      <th>3221</th>\n",
       "      <td>num_rooms</td>\n",
       "      <td>0.003367</td>\n",
       "    </tr>\n",
       "    <tr>\n",
       "      <th>2726</th>\n",
       "      <td>neighborhood_id_36630.0</td>\n",
       "      <td>0.003200</td>\n",
       "    </tr>\n",
       "    <tr>\n",
       "      <th>3206</th>\n",
       "      <td>1st_flr_living_area</td>\n",
       "      <td>0.003078</td>\n",
       "    </tr>\n",
       "    <tr>\n",
       "      <th>2573</th>\n",
       "      <td>city_id_24797.0</td>\n",
       "      <td>0.003042</td>\n",
       "    </tr>\n",
       "    <tr>\n",
       "      <th>3215</th>\n",
       "      <td>num_garages</td>\n",
       "      <td>0.002605</td>\n",
       "    </tr>\n",
       "    <tr>\n",
       "      <th>...</th>\n",
       "      <td>...</td>\n",
       "      <td>...</td>\n",
       "    </tr>\n",
       "    <tr>\n",
       "      <th>1776</th>\n",
       "      <td>land_use_desc_LYR3</td>\n",
       "      <td>0.000000</td>\n",
       "    </tr>\n",
       "    <tr>\n",
       "      <th>1769</th>\n",
       "      <td>land_use_desc_LYCB1*</td>\n",
       "      <td>0.000000</td>\n",
       "    </tr>\n",
       "    <tr>\n",
       "      <th>1768</th>\n",
       "      <td>land_use_desc_LYC2-R2*</td>\n",
       "      <td>0.000000</td>\n",
       "    </tr>\n",
       "    <tr>\n",
       "      <th>1764</th>\n",
       "      <td>land_use_desc_LVRSP87-19</td>\n",
       "      <td>0.000000</td>\n",
       "    </tr>\n",
       "    <tr>\n",
       "      <th>1763</th>\n",
       "      <td>land_use_desc_LVRSP86-16</td>\n",
       "      <td>0.000000</td>\n",
       "    </tr>\n",
       "    <tr>\n",
       "      <th>1762</th>\n",
       "      <td>land_use_desc_LVR3D*</td>\n",
       "      <td>0.000000</td>\n",
       "    </tr>\n",
       "    <tr>\n",
       "      <th>1761</th>\n",
       "      <td>land_use_desc_LVR17500*</td>\n",
       "      <td>0.000000</td>\n",
       "    </tr>\n",
       "    <tr>\n",
       "      <th>1757</th>\n",
       "      <td>land_use_desc_LVPR6A*</td>\n",
       "      <td>0.000000</td>\n",
       "    </tr>\n",
       "    <tr>\n",
       "      <th>1756</th>\n",
       "      <td>land_use_desc_LVPR5D*</td>\n",
       "      <td>0.000000</td>\n",
       "    </tr>\n",
       "    <tr>\n",
       "      <th>1749</th>\n",
       "      <td>land_use_desc_LVPI</td>\n",
       "      <td>0.000000</td>\n",
       "    </tr>\n",
       "    <tr>\n",
       "      <th>1746</th>\n",
       "      <td>land_use_desc_LVA1YY</td>\n",
       "      <td>0.000000</td>\n",
       "    </tr>\n",
       "    <tr>\n",
       "      <th>1784</th>\n",
       "      <td>land_use_desc_MNC1*</td>\n",
       "      <td>0.000000</td>\n",
       "    </tr>\n",
       "    <tr>\n",
       "      <th>1786</th>\n",
       "      <td>land_use_desc_MNCD</td>\n",
       "      <td>0.000000</td>\n",
       "    </tr>\n",
       "    <tr>\n",
       "      <th>1788</th>\n",
       "      <td>land_use_desc_MNCNE-D5</td>\n",
       "      <td>0.000000</td>\n",
       "    </tr>\n",
       "    <tr>\n",
       "      <th>1816</th>\n",
       "      <td>land_use_desc_MOR2*</td>\n",
       "      <td>0.000000</td>\n",
       "    </tr>\n",
       "    <tr>\n",
       "      <th>1839</th>\n",
       "      <td>land_use_desc_MYCMYY</td>\n",
       "      <td>0.000000</td>\n",
       "    </tr>\n",
       "    <tr>\n",
       "      <th>1837</th>\n",
       "      <td>land_use_desc_MPRL</td>\n",
       "      <td>0.000000</td>\n",
       "    </tr>\n",
       "    <tr>\n",
       "      <th>1829</th>\n",
       "      <td>land_use_desc_MPR1CD*</td>\n",
       "      <td>0.000000</td>\n",
       "    </tr>\n",
       "    <tr>\n",
       "      <th>1819</th>\n",
       "      <td>land_use_desc_MORE*</td>\n",
       "      <td>0.000000</td>\n",
       "    </tr>\n",
       "    <tr>\n",
       "      <th>1818</th>\n",
       "      <td>land_use_desc_MOR3*</td>\n",
       "      <td>0.000000</td>\n",
       "    </tr>\n",
       "    <tr>\n",
       "      <th>1817</th>\n",
       "      <td>land_use_desc_MOR2YY</td>\n",
       "      <td>0.000000</td>\n",
       "    </tr>\n",
       "    <tr>\n",
       "      <th>1815</th>\n",
       "      <td>land_use_desc_MOR1*</td>\n",
       "      <td>0.000000</td>\n",
       "    </tr>\n",
       "    <tr>\n",
       "      <th>1789</th>\n",
       "      <td>land_use_desc_MNPD</td>\n",
       "      <td>0.000000</td>\n",
       "    </tr>\n",
       "    <tr>\n",
       "      <th>1814</th>\n",
       "      <td>land_use_desc_MOPD*</td>\n",
       "      <td>0.000000</td>\n",
       "    </tr>\n",
       "    <tr>\n",
       "      <th>1812</th>\n",
       "      <td>land_use_desc_MOM-P/QP*</td>\n",
       "      <td>0.000000</td>\n",
       "    </tr>\n",
       "    <tr>\n",
       "      <th>1811</th>\n",
       "      <td>land_use_desc_MOM*</td>\n",
       "      <td>0.000000</td>\n",
       "    </tr>\n",
       "    <tr>\n",
       "      <th>1810</th>\n",
       "      <td>land_use_desc_MOC3*</td>\n",
       "      <td>0.000000</td>\n",
       "    </tr>\n",
       "    <tr>\n",
       "      <th>1798</th>\n",
       "      <td>land_use_desc_MNR3PD*</td>\n",
       "      <td>0.000000</td>\n",
       "    </tr>\n",
       "    <tr>\n",
       "      <th>1795</th>\n",
       "      <td>land_use_desc_MNR2*</td>\n",
       "      <td>0.000000</td>\n",
       "    </tr>\n",
       "    <tr>\n",
       "      <th>1616</th>\n",
       "      <td>land_use_desc_LNR3P*</td>\n",
       "      <td>0.000000</td>\n",
       "    </tr>\n",
       "  </tbody>\n",
       "</table>\n",
       "<p>3233 rows × 2 columns</p>\n",
       "</div>"
      ],
      "text/plain": [
       "                       Feature  Importance\n",
       "3200           transaction_day    0.062576\n",
       "3227       structure_tax_value    0.057933\n",
       "3217                  latitude    0.053093\n",
       "3230          tot_property_tax    0.052673\n",
       "3218                 longitude    0.052278\n",
       "3199           transaction_mth    0.051086\n",
       "3229            land_tax_value    0.049338\n",
       "3219                  lot_area    0.045692\n",
       "3228          parcel_tax_value    0.044661\n",
       "3207      calc_tot_living_area    0.043477\n",
       "3231                  bldg_age    0.042412\n",
       "3208      finished_living_area    0.037627\n",
       "3203               num_bedroom    0.014855\n",
       "3216         total_garage_area    0.008401\n",
       "3210                total_area    0.006300\n",
       "3205         calc_num_bathroom    0.006260\n",
       "3202              num_bathroom    0.005726\n",
       "3214          num_full_bathrms    0.005423\n",
       "1258   land_use_desc_LCA11000*    0.004915\n",
       "3204            bldg_condition    0.004710\n",
       "3211     1st_flr_finished_area    0.004612\n",
       "3232         tax_delinqncy_age    0.004476\n",
       "3224                     patio    0.004084\n",
       "142           zip_code_96181.0    0.004061\n",
       "2839  neighborhood_id_268496.0    0.003406\n",
       "3221                 num_rooms    0.003367\n",
       "2726   neighborhood_id_36630.0    0.003200\n",
       "3206       1st_flr_living_area    0.003078\n",
       "2573           city_id_24797.0    0.003042\n",
       "3215               num_garages    0.002605\n",
       "...                        ...         ...\n",
       "1776        land_use_desc_LYR3    0.000000\n",
       "1769      land_use_desc_LYCB1*    0.000000\n",
       "1768    land_use_desc_LYC2-R2*    0.000000\n",
       "1764  land_use_desc_LVRSP87-19    0.000000\n",
       "1763  land_use_desc_LVRSP86-16    0.000000\n",
       "1762      land_use_desc_LVR3D*    0.000000\n",
       "1761   land_use_desc_LVR17500*    0.000000\n",
       "1757     land_use_desc_LVPR6A*    0.000000\n",
       "1756     land_use_desc_LVPR5D*    0.000000\n",
       "1749        land_use_desc_LVPI    0.000000\n",
       "1746      land_use_desc_LVA1YY    0.000000\n",
       "1784       land_use_desc_MNC1*    0.000000\n",
       "1786        land_use_desc_MNCD    0.000000\n",
       "1788    land_use_desc_MNCNE-D5    0.000000\n",
       "1816       land_use_desc_MOR2*    0.000000\n",
       "1839      land_use_desc_MYCMYY    0.000000\n",
       "1837        land_use_desc_MPRL    0.000000\n",
       "1829     land_use_desc_MPR1CD*    0.000000\n",
       "1819       land_use_desc_MORE*    0.000000\n",
       "1818       land_use_desc_MOR3*    0.000000\n",
       "1817      land_use_desc_MOR2YY    0.000000\n",
       "1815       land_use_desc_MOR1*    0.000000\n",
       "1789        land_use_desc_MNPD    0.000000\n",
       "1814       land_use_desc_MOPD*    0.000000\n",
       "1812   land_use_desc_MOM-P/QP*    0.000000\n",
       "1811        land_use_desc_MOM*    0.000000\n",
       "1810       land_use_desc_MOC3*    0.000000\n",
       "1798     land_use_desc_MNR3PD*    0.000000\n",
       "1795       land_use_desc_MNR2*    0.000000\n",
       "1616      land_use_desc_LNR3P*    0.000000\n",
       "\n",
       "[3233 rows x 2 columns]"
      ]
     },
     "execution_count": 56,
     "metadata": {},
     "output_type": "execute_result"
    }
   ],
   "source": [
    "importances = model.feature_importances_\n",
    "features=X_all.columns\n",
    "\n",
    "rf_importances = pd.DataFrame({'Feature':features, 'Importance':importances})\n",
    "rf_importances = rf_importances.sort_values(by='Importance',ascending=False)\n",
    "\n",
    "rf_importances"
   ]
  },
  {
   "cell_type": "markdown",
   "metadata": {},
   "source": [
    "***Looking at the top 50 features***"
   ]
  },
  {
   "cell_type": "code",
   "execution_count": 57,
   "metadata": {},
   "outputs": [
    {
     "data": {
      "image/png": "[encoded data removed]",
      "text/plain": [
       "<matplotlib.figure.Figure at 0x25a09615668>"
      ]
     },
     "metadata": {},
     "output_type": "display_data"
    }
   ],
   "source": [
    "plot_horizontal_bars(20,10,\"Random Forest Feature Importance\",\\\n",
    "                     rf_importances[:50],'Importance','Feature','Importance')"
   ]
  },
  {
   "cell_type": "code",
   "execution_count": 58,
   "metadata": {},
   "outputs": [
    {
     "data": {
      "image/png": "[encoded data removed]",
      "text/plain": [
       "<matplotlib.figure.Figure at 0x25a09fae278>"
      ]
     },
     "metadata": {},
     "output_type": "display_data"
    }
   ],
   "source": [
    "model=rf_models[0]\n",
    "importances = model.feature_importances_\n",
    "features=X_all.columns\n",
    "\n",
    "indices = np.argsort(importances)[::-1]\n",
    "indices_50=indices[:20]\n",
    "\n",
    "plot_rf_importances(indices_50,features,importances,20,10)"
   ]
  },
  {
   "cell_type": "markdown",
   "metadata": {},
   "source": [
    "## 1.2. PCA\n",
    "PCA Analysis on **all** and ***non-sparse*** variables"
   ]
  },
  {
   "cell_type": "code",
   "execution_count": null,
   "metadata": {
    "collapsed": true
   },
   "outputs": [],
   "source": [
    "non_sparse_categorical_features,non_sparse_non_categorical_features=categorise_features(non_sparse_features,categorical_vars,\\\n",
    "                    non_categorical_vars)\n",
    "\n",
    "X_non_sparse=process_features(train_enhanced[non_sparse_categorical_features],train_enhanced[non_sparse_non_categorical_features])\n",
    "Y_non_sparse=train_enhanced['logerror']"
   ]
  },
  {
   "cell_type": "code",
   "execution_count": null,
   "metadata": {
    "scrolled": true
   },
   "outputs": [
    {
     "name": "stdout",
     "output_type": "stream",
     "text": [
      "MODEL DETAILS:\n",
      "\n",
      "Total number of model features: 20\n",
      "\n",
      "Results from LinearRegression: \n",
      "\n",
      "r2 score: 0.00429287\n",
      "\n",
      "MSE (predicted vs baseline): 0.02453226 vs 0.02463887\n",
      "\n",
      "MODEL DETAILS:\n",
      "\n",
      "Total number of model features: 30\n",
      "\n",
      "Results from LinearRegression: \n",
      "\n",
      "r2 score: 0.00402285\n",
      "\n",
      "MSE (predicted vs baseline): 0.02453891 vs 0.02463887\n",
      "\n",
      "MODEL DETAILS:\n",
      "\n",
      "Total number of model features: 40\n",
      "\n",
      "Results from LinearRegression: \n",
      "\n",
      "r2 score: 0.00465831\n",
      "\n",
      "MSE (predicted vs baseline): 0.02452326 vs 0.02463887\n",
      "\n",
      "MODEL DETAILS:\n",
      "\n",
      "Total number of model features: 50\n",
      "\n",
      "Results from LinearRegression: \n",
      "\n",
      "r2 score: 0.00848380\n",
      "\n",
      "MSE (predicted vs baseline): 0.02442900 vs 0.02463887\n",
      "\n",
      "MODEL DETAILS:\n",
      "\n",
      "Total number of model features: 60\n",
      "\n",
      "Results from LinearRegression: \n",
      "\n",
      "r2 score: 0.00899261\n",
      "\n",
      "MSE (predicted vs baseline): 0.02441647 vs 0.02463887\n",
      "\n",
      "MODEL DETAILS:\n",
      "\n",
      "Total number of model features: 70\n",
      "\n",
      "Results from LinearRegression: \n",
      "\n",
      "r2 score: 0.00939860\n",
      "\n",
      "MSE (predicted vs baseline): 0.02440647 vs 0.02463887\n",
      "\n",
      "MODEL DETAILS:\n",
      "\n",
      "Total number of model features: 80\n",
      "\n",
      "Results from LinearRegression: \n",
      "\n",
      "r2 score: 0.00993728\n",
      "\n",
      "MSE (predicted vs baseline): 0.02439319 vs 0.02463887\n",
      "\n",
      "MODEL DETAILS:\n",
      "\n",
      "Total number of model features: 90\n",
      "\n",
      "Results from LinearRegression: \n",
      "\n",
      "r2 score: 0.01034414\n",
      "\n",
      "MSE (predicted vs baseline): 0.02438317 vs 0.02463887\n",
      "\n",
      "MODEL DETAILS:\n",
      "\n",
      "Total number of model features: 100\n",
      "\n",
      "Results from LinearRegression: \n",
      "\n",
      "r2 score: 0.01066585\n",
      "\n",
      "MSE (predicted vs baseline): 0.02437524 vs 0.02463887\n",
      "\n",
      "MODEL DETAILS:\n",
      "\n",
      "Total number of model features: 110\n",
      "\n",
      "Results from LinearRegression: \n",
      "\n",
      "r2 score: 0.01032045\n",
      "\n",
      "MSE (predicted vs baseline): 0.02438375 vs 0.02463887\n",
      "\n",
      "MODEL DETAILS:\n",
      "\n",
      "Total number of model features: 120\n",
      "\n",
      "Results from LinearRegression: \n",
      "\n",
      "r2 score: 0.01032263\n",
      "\n",
      "MSE (predicted vs baseline): 0.02438370 vs 0.02463887\n",
      "\n",
      "MODEL DETAILS:\n",
      "\n",
      "Total number of model features: 130\n",
      "\n",
      "Results from LinearRegression: \n",
      "\n",
      "r2 score: 0.01074922\n",
      "\n",
      "MSE (predicted vs baseline): 0.02437319 vs 0.02463887\n",
      "\n",
      "MODEL DETAILS:\n",
      "\n",
      "Total number of model features: 140\n",
      "\n",
      "Results from LinearRegression: \n",
      "\n",
      "r2 score: 0.01053671\n",
      "\n",
      "MSE (predicted vs baseline): 0.02437842 vs 0.02463887\n",
      "\n",
      "MODEL DETAILS:\n",
      "\n",
      "Total number of model features: 150\n",
      "\n",
      "Results from LinearRegression: \n",
      "\n",
      "r2 score: 0.01075311\n",
      "\n",
      "MSE (predicted vs baseline): 0.02437309 vs 0.02463887\n",
      "\n",
      "MODEL DETAILS:\n",
      "\n",
      "Total number of model features: 160\n",
      "\n",
      "Results from LinearRegression: \n",
      "\n",
      "r2 score: 0.01064233\n",
      "\n",
      "MSE (predicted vs baseline): 0.02437582 vs 0.02463887\n",
      "\n",
      "MODEL DETAILS:\n",
      "\n",
      "Total number of model features: 170\n",
      "\n",
      "Results from LinearRegression: \n",
      "\n",
      "r2 score: 0.01039528\n",
      "\n",
      "MSE (predicted vs baseline): 0.02438191 vs 0.02463887\n",
      "\n",
      "MODEL DETAILS:\n",
      "\n",
      "Total number of model features: 180\n",
      "\n",
      "Results from LinearRegression: \n",
      "\n",
      "r2 score: 0.01000517\n",
      "\n",
      "MSE (predicted vs baseline): 0.02439152 vs 0.02463887\n",
      "\n",
      "MODEL DETAILS:\n",
      "\n",
      "Total number of model features: 190\n",
      "\n",
      "Results from LinearRegression: \n",
      "\n",
      "r2 score: 0.00949994\n",
      "\n",
      "MSE (predicted vs baseline): 0.02440397 vs 0.02463887\n",
      "\n",
      "MODEL DETAILS:\n",
      "\n",
      "Total number of model features: 200\n",
      "\n",
      "Results from LinearRegression: \n",
      "\n",
      "r2 score: 0.00946441\n",
      "\n",
      "MSE (predicted vs baseline): 0.02440484 vs 0.02463887\n",
      "\n",
      "MODEL DETAILS:\n",
      "\n",
      "Total number of model features: 210\n",
      "\n",
      "Results from LinearRegression: \n",
      "\n",
      "r2 score: 0.00886394\n",
      "\n",
      "MSE (predicted vs baseline): 0.02441964 vs 0.02463887\n",
      "\n",
      "MODEL DETAILS:\n",
      "\n",
      "Total number of model features: 220\n",
      "\n",
      "Results from LinearRegression: \n",
      "\n",
      "r2 score: 0.00918232\n",
      "\n",
      "MSE (predicted vs baseline): 0.02441179 vs 0.02463887\n",
      "\n",
      "MODEL DETAILS:\n",
      "\n",
      "Total number of model features: 230\n",
      "\n",
      "Results from LinearRegression: \n",
      "\n",
      "r2 score: 0.00928211\n",
      "\n",
      "MSE (predicted vs baseline): 0.02440934 vs 0.02463887\n",
      "\n"
     ]
    }
   ],
   "source": [
    "# see what number of dimensions yield the best results\n",
    "pca_dims_all,pca_r2_scores_all,pca_models_all=pca_grid_search('linear',20,505,10,X_all,Y_all)\n",
    "pca_dims_ns,pca_r2_scores_ns,pca_models_ns=pca_grid_search('linear',20,505,10,X_non_sparse,Y_non_sparse)"
   ]
  },
  {
   "cell_type": "code",
   "execution_count": null,
   "metadata": {
    "collapsed": true
   },
   "outputs": [],
   "source": [
    "best_dim_all=evaluate_best_dim(pca_r2_scores_all,pca_dims_all,print_graph=True)"
   ]
  },
  {
   "cell_type": "code",
   "execution_count": null,
   "metadata": {
    "collapsed": true
   },
   "outputs": [],
   "source": [
    "best_dim_ns=evaluate_best_dim(pca_r2_scores_ns,pca_dims_ns,print_graph=True)"
   ]
  },
  {
   "cell_type": "markdown",
   "metadata": {
    "collapsed": true,
    "scrolled": true
   },
   "source": [
    "## 1.3. Feature selection"
   ]
  },
  {
   "cell_type": "markdown",
   "metadata": {},
   "source": [
    "Options for feature selections are:\n",
    "1. xgbFeatures - 350 features obtained from the xgboost model\n",
    "2. pcaFeatures - 290 components run on X_all\n",
    "\n",
    "Evaluate the performance of each of these two feature sets on a Linear Regression model"
   ]
  },
  {
   "cell_type": "code",
   "execution_count": null,
   "metadata": {
    "collapsed": true
   },
   "outputs": [],
   "source": [
    "num_pca_features_all=290"
   ]
  },
  {
   "cell_type": "code",
   "execution_count": null,
   "metadata": {
    "collapsed": true
   },
   "outputs": [],
   "source": [
    "X_all_pca=pd.DataFrame(get_pca_features(X_all,num_pca_features_all))"
   ]
  },
  {
   "cell_type": "code",
   "execution_count": null,
   "metadata": {
    "collapsed": true
   },
   "outputs": [],
   "source": [
    "X_select=X_all[list(xgbFeatures['Item'])]"
   ]
  },
  {
   "cell_type": "markdown",
   "metadata": {},
   "source": [
    "### 1.3.1 Transform features"
   ]
  },
  {
   "cell_type": "code",
   "execution_count": null,
   "metadata": {
    "collapsed": true
   },
   "outputs": [],
   "source": [
    "# use original pca data\n",
    "X_all_pca=pd.DataFrame(X_all_pca)\n",
    "\n",
    "# standardised data\n",
    "X_all_pca_s=standardize_data(pd.DataFrame(X_all_pca))\n",
    "Y_all_pca_s=Y_all\n",
    "\n",
    "# normalize data\n",
    "X_all_pca_n=normalize_data(X_all_pca)"
   ]
  },
  {
   "cell_type": "code",
   "execution_count": null,
   "metadata": {
    "collapsed": true
   },
   "outputs": [],
   "source": [
    "%store X_all_pca"
   ]
  },
  {
   "cell_type": "code",
   "execution_count": null,
   "metadata": {
    "collapsed": true
   },
   "outputs": [],
   "source": [
    "%store X_all_pca\n",
    "%store X_select"
   ]
  },
  {
   "cell_type": "markdown",
   "metadata": {},
   "source": [
    "#### Check correlations between pca variables and logerror"
   ]
  },
  {
   "cell_type": "code",
   "execution_count": null,
   "metadata": {
    "collapsed": true
   },
   "outputs": [],
   "source": [
    "# check correlation coefficient of the newly created pca variables #\n",
    "x_cols = [col for col in X_all_pca.columns if col not in ['logerror','abs_logerror','transactiondate','parcelid']]\n",
    "cur_col=''\n",
    "items = []\n",
    "correlations = []\n",
    "for col in x_cols:\n",
    "    cur_col=col # cur_col is a diagnostic variable, and is only used for troubleshooting\n",
    "    items.append(col)\n",
    "    correlations.append(np.corrcoef(X_all_pca[col].values, Y_all.values)[0,1])\n",
    "\n",
    "corr_df = pd.DataFrame({'col_labels':items, 'corr_values':correlations})\n",
    "corr_df = corr_df.sort_values(by='corr_values')\n",
    "\n",
    "plot_horizontal_bars(20,10,\"Correlation coefficient with respect to logerror\",\\\n",
    "                     corr_df,'corr_values','col_labels','correlation')\n"
   ]
  },
  {
   "cell_type": "markdown",
   "metadata": {},
   "source": [
    "## Correlations Non Normalized, Non Standardized PCA  Components"
   ]
  },
  {
   "cell_type": "markdown",
   "metadata": {},
   "source": [
    "#### Check correlations <u>between</u> pca variables"
   ]
  },
  {
   "cell_type": "code",
   "execution_count": null,
   "metadata": {
    "collapsed": true
   },
   "outputs": [],
   "source": [
    "# correlation matrix\n",
    "fig,ax= plt.subplots(figsize=(5,5))\n",
    "fig.suptitle('Correlations - PCA Variables')\n",
    "cax=ax.matshow(X_all_pca.corr(),vmin=-1,vmax=1,interpolation='none')\n",
    "fig.colorbar(cax)\n",
    "#ax.set_title('All Variables')\n",
    "ax.set_ylabel('feature')\n",
    "plt.show()"
   ]
  },
  {
   "cell_type": "markdown",
   "metadata": {},
   "source": [
    "## Check correlations on Standardized PCA components"
   ]
  },
  {
   "cell_type": "code",
   "execution_count": null,
   "metadata": {
    "collapsed": true
   },
   "outputs": [],
   "source": [
    "# check correlation coefficient of the newly created pca variables #\n",
    "x_cols = [col for col in X_all_pca_s.columns if col not in ['logerror','abs_logerror','transactiondate','parcelid']]\n",
    "cur_col=''\n",
    "items = []\n",
    "correlations = []\n",
    "for col in x_cols:\n",
    "    cur_col=col # cur_col is a diagnostic variable, and is only used for troubleshooting\n",
    "    items.append(col)\n",
    "    correlations.append(np.corrcoef(X_all_pca[col].values, Y_all.values)[0,1])\n",
    "\n",
    "corr_df = pd.DataFrame({'col_labels':items, 'corr_values':correlations})\n",
    "corr_df = corr_df.sort_values(by='corr_values')\n",
    "\n",
    "plot_horizontal_bars(20,10,\"Correlation coefficient with respect to logerror\",\\\n",
    "                     corr_df,'corr_values','col_labels','correlation')\n"
   ]
  },
  {
   "cell_type": "code",
   "execution_count": null,
   "metadata": {
    "collapsed": true
   },
   "outputs": [],
   "source": [
    "# correlation matrix\n",
    "fig,ax= plt.subplots(figsize=(5,5))\n",
    "fig.suptitle('Correlations - PCA Variables')\n",
    "cax=ax.matshow(X_all_pca_s.corr(),vmin=-1,vmax=1,interpolation='none')\n",
    "fig.colorbar(cax)\n",
    "#ax.set_title('All Variables')\n",
    "ax.set_ylabel('feature')\n",
    "plt.show()"
   ]
  },
  {
   "cell_type": "markdown",
   "metadata": {},
   "source": [
    "## Correlations between Normalized PCA variables"
   ]
  },
  {
   "cell_type": "code",
   "execution_count": null,
   "metadata": {
    "collapsed": true
   },
   "outputs": [],
   "source": [
    "# check correlation coefficient of the newly created pca variables #\n",
    "x_cols = [col for col in X_all_pca_n.columns if col not in ['logerror','abs_logerror','transactiondate','parcelid']]\n",
    "cur_col=''\n",
    "items = []\n",
    "correlations = []\n",
    "for col in x_cols:\n",
    "    cur_col=col # cur_col is a diagnostic variable, and is only used for troubleshooting\n",
    "    items.append(col)\n",
    "    correlations.append(np.corrcoef(X_all_pca[col].values, Y_all.values)[0,1])\n",
    "\n",
    "corr_df = pd.DataFrame({'col_labels':items, 'corr_values':correlations})\n",
    "corr_df = corr_df.sort_values(by='corr_values')\n",
    "\n",
    "plot_horizontal_bars(20,10,\"Correlation coefficient with respect to logerror\",\\\n",
    "                     corr_df,'corr_values','col_labels','correlation')\n"
   ]
  },
  {
   "cell_type": "code",
   "execution_count": null,
   "metadata": {
    "collapsed": true
   },
   "outputs": [],
   "source": [
    "# correlation matrix\n",
    "fig,ax= plt.subplots(figsize=(5,5))\n",
    "fig.suptitle('Correlations - PCA Variables')\n",
    "cax=ax.matshow(X_all_pca_n.corr(),vmin=-1,vmax=1,interpolation='none')\n",
    "fig.colorbar(cax)\n",
    "#ax.set_title('All Variables')\n",
    "ax.set_ylabel('feature')\n",
    "plt.show()"
   ]
  },
  {
   "cell_type": "markdown",
   "metadata": {},
   "source": [
    "Test performance of both datasets on a Linear Regression model"
   ]
  },
  {
   "cell_type": "code",
   "execution_count": null,
   "metadata": {
    "collapsed": true
   },
   "outputs": [],
   "source": [
    "pca_perf=get_model_perf(X_all_pca,Y_all,'linear')"
   ]
  },
  {
   "cell_type": "code",
   "execution_count": null,
   "metadata": {
    "collapsed": true
   },
   "outputs": [],
   "source": [
    "select_perf=get_model_perf(X_select,Y_all,'linear')"
   ]
  },
  {
   "cell_type": "markdown",
   "metadata": {},
   "source": [
    "**Comment:** The linear regression model using the PCA components yielded better r2 and mse scores than that using the xgboost features."
   ]
  },
  {
   "cell_type": "markdown",
   "metadata": {},
   "source": [
    "## 2. Linear Models"
   ]
  },
  {
   "cell_type": "markdown",
   "metadata": {},
   "source": [
    "### 2.1 Prepare modelling data"
   ]
  },
  {
   "cell_type": "code",
   "execution_count": null,
   "metadata": {
    "collapsed": true
   },
   "outputs": [],
   "source": [
    "X_all_pca_s_train, X_all_pca_s_test, y_all_pca_s_train, y_all_pca_s_test = train_test_split(X_all_pca_s,Y_all,test_size=0.2,random_state=123)\n",
    "X_all_pca_n_train, X_all_pca_n_test, y_all_pca_n_train, y_all_pca_n_test = train_test_split(X_all_pca_n,Y_all,test_size=0.2,random_state=123)\n",
    "X_all_pca_train, X_all_pca_test, y_all_pca_train, y_all_pca_test = train_test_split(X_all_pca,Y_all,test_size=0.2,random_state=123)\n"
   ]
  },
  {
   "cell_type": "code",
   "execution_count": null,
   "metadata": {
    "collapsed": true
   },
   "outputs": [],
   "source": [
    "# get a baseline estimate of model performance\n",
    "from sklearn.linear_model import LinearRegression,Lasso,Ridge,ElasticNet\n",
    "from sklearn.model_selection import RandomizedSearchCV,KFold,GridSearchCV,cross_val_score\n",
    "\n",
    "linear_models=[]\n",
    "linear_models.append(('linear',LinearRegression()))\n",
    "linear_models.append(('lasso',Lasso(random_state=123)))\n",
    "linear_models.append(('ridge',Ridge(random_state=123)))\n",
    "linear_models.append(('eNet',ElasticNet(random_state=123)))\n",
    "\n",
    "nFolds=10\n"
   ]
  },
  {
   "cell_type": "markdown",
   "metadata": {},
   "source": [
    "### 2.2 Baseline models - $R^2$ metric"
   ]
  },
  {
   "cell_type": "markdown",
   "metadata": {},
   "source": [
    "***Results from training on <u>training data</u> only***"
   ]
  },
  {
   "cell_type": "code",
   "execution_count": null,
   "metadata": {
    "collapsed": true,
    "scrolled": true
   },
   "outputs": [],
   "source": [
    "scoring='r2'\n",
    "\n",
    "pca_s_names,pca_s_results=run_linear_models(linear_models,X_all_pca_s_train,y_all_pca_s_train,nFolds,scoring)\n",
    "pca_n_names,pca_n_results=run_linear_models(linear_models,X_all_pca_n_train,y_all_pca_n_train,nFolds,scoring)\n",
    "pca_names,pca_results=run_linear_models(linear_models,X_all_pca_train,y_all_pca_train,nFolds,scoring)\n",
    "\n",
    "plot_linear_models(plot2=pca_results,title2='Non Normalized, Non Standardized Data',label2=pca_names,\\\n",
    "                   plot3=pca_s_results,title3='Standardized Data',label3=pca_s_names,\\\n",
    "                   plot1=pca_n_results,title1='Normalized Data',label1=pca_n_names,\\\n",
    "                   score='r2 score',suptitle='Baseline Performance of Linear Models')"
   ]
  },
  {
   "cell_type": "markdown",
   "metadata": {},
   "source": [
    "***Results from training on <u>ALL</u> data***"
   ]
  },
  {
   "cell_type": "code",
   "execution_count": null,
   "metadata": {
    "collapsed": true,
    "scrolled": true
   },
   "outputs": [],
   "source": [
    "# training with ALL data\n",
    "\n",
    "scoring='r2'\n",
    "\n",
    "pca_s_names,pca_s_results=run_linear_models(linear_models,X_all_pca_s,Y_all,nFolds,scoring)\n",
    "pca_n_names,pca_n_results=run_linear_models(linear_models,X_all_pca_n,Y_all,nFolds,scoring)\n",
    "pca_names,pca_results=run_linear_models(linear_models,X_all_pca,Y_all,nFolds,scoring)\n",
    "\n",
    "plot_linear_models(plot2=pca_results,title2='Non Normalized, Non Standardized Data',label2=pca_names,\\\n",
    "                   plot3=pca_s_results,title3='Standardized Data',label3=pca_s_names,\\\n",
    "                   plot1=pca_n_results,title1='Normalized Data',label1=pca_n_names,\\\n",
    "                   score='r2 score',suptitle='Baseline Performance of Linear Models')"
   ]
  },
  {
   "cell_type": "markdown",
   "metadata": {},
   "source": [
    "### 2.4 Baseline Models - mse metric"
   ]
  },
  {
   "cell_type": "code",
   "execution_count": null,
   "metadata": {
    "collapsed": true,
    "scrolled": true
   },
   "outputs": [],
   "source": [
    "## MSE Comparison Using ALL data\n",
    "scoring='neg_mean_squared_error'\n",
    "\n",
    "pca_s_names_2,pca_s_results_2=run_linear_models(linear_models,X_all_pca_s,Y_all,nFolds,scoring)\n",
    "pca_n_names_2,pca_n_results_2=run_linear_models(linear_models,X_all_pca_n,Y_all,nFolds,scoring)\n",
    "pca_names_2,pca_results_2=run_linear_models(linear_models,X_all_pca,Y_all,nFolds,scoring)\n",
    "\n",
    "plot_linear_models(plot1=pca_results_2,title1='Non Normalized, Non Standardized Data',label1=pca_names_2,\\\n",
    "                   plot2=pca_s_results_2,title2='Standardized Data',label2=pca_s_names_2,\\\n",
    "                   plot3=pca_n_results_2,title3='Normalized Data',label3=pca_n_names_2,\\\n",
    "                   score='mse',suptitle='Baseline Performance of Linear Models')"
   ]
  },
  {
   "cell_type": "markdown",
   "metadata": {},
   "source": [
    "### 2.5 Tune Models"
   ]
  },
  {
   "cell_type": "markdown",
   "metadata": {},
   "source": [
    "#### 2.5.1 Ridge"
   ]
  },
  {
   "cell_type": "code",
   "execution_count": null,
   "metadata": {
    "collapsed": true
   },
   "outputs": [],
   "source": [
    "alphas1=list(np.arange(0,1,0.1))\n",
    "alphas2=list(np.arange(1,20,0.5))\n",
    "alphas=np.array(alphas1+alphas2)\n",
    "dict(alpha=alphas)"
   ]
  },
  {
   "cell_type": "code",
   "execution_count": null,
   "metadata": {
    "collapsed": true
   },
   "outputs": [],
   "source": [
    "from sklearn.metrics import r2_score, mean_squared_error, make_scorer\n",
    "\n",
    "# uncomment the following if it is the first time running this notebook.  Otherwise, analysis and results will be appended to current variables. \n",
    "ridge_data_desc=[]\n",
    "ridge_alphas=[]\n",
    "ridge_scores=[]\n",
    "ridge_grid=[]\n",
    "\n",
    "\n",
    "#scoring={'r2':make_scorer(r2_score),'mse':make_scorer(mean_squared_error)}\n",
    "#nn_data_dict={'X_all_pca_s':[X_all_pca_s_train,y_all_pca_s_train,X_all_pca_s_test,y_all_pca_s_test]}\n",
    "\n",
    "#grid,best_alpha,best_score=tune_ridge(alphas,X_all_pca_train,y_all_pca_train,scoring)\n",
    "#results=tune_ridge(alphas,X_all_pca_train,y_all_pca_train)\n",
    "\n",
    "nn_data_dict={'X_all_pca_s':[X_all_pca_s_train,y_all_pca_s_train,X_all_pca_s_test,y_all_pca_s_test],\n",
    "          'X_all_pca_n':[X_all_pca_n_train,y_all_pca_n_train,X_all_pca_n_test,y_all_pca_n_test],\n",
    "             'X_all_pca':[X_all_pca_train,y_all_pca_train,X_all_pca_test,y_all_pca_test]}  \n",
    "\n",
    "for name,data_items in nn_data_dict.items():\n",
    "    X_train,y_train,X_test,y_test=data_items\n",
    "    \n",
    "    grid,best_alpha,best_score=tune_ridge(alphas,X_train,y_train)\n",
    "    \n",
    "    ridge_data_desc.append(name)\n",
    "    ridge_alphas.append(best_alpha)\n",
    "    ridge_scores.append(best_score)\n",
    "    ridge_grid.append(grid)\n",
    "    "
   ]
  },
  {
   "cell_type": "code",
   "execution_count": null,
   "metadata": {
    "collapsed": true
   },
   "outputs": [],
   "source": [
    "ridge_n_indices=[i for i, j in enumerate(ridge_data_desc) if j == 'X_all_pca_n']\n",
    "ridge_s_indices=[i for i, j in enumerate(ridge_data_desc) if j == 'X_all_pca_s']\n",
    "ridge_indices=[i for i, j in enumerate(ridge_data_desc) if j == 'X_all_pca']\n",
    "\n",
    "ridge_n_grids=np.array(ridge_grid)[ridge_n_indices]\n",
    "ridge_s_grids=np.array(ridge_grid)[ridge_s_indices]\n",
    "ridge_grids=np.array(ridge_grid)[ridge_indices]"
   ]
  },
  {
   "cell_type": "code",
   "execution_count": null,
   "metadata": {
    "collapsed": true,
    "scrolled": true
   },
   "outputs": [],
   "source": [
    "ridge_n_alpha_params,ridge_n_scores=get_params_n_scores(ridge_n_grids,'alpha',to_sort=False)\n",
    "#ridge_n_l1_params,ridge_n_scores=get_params_n_scores(ridge_n_grids,'l1_ratio',to_sort=False)\n",
    "df_temp=pd.DataFrame({'param':ridge_n_alpha_params,'score':ridge_n_scores})\n",
    "df_temp.sort_values(by=['score'],ascending=False)"
   ]
  },
  {
   "cell_type": "markdown",
   "metadata": {},
   "source": [
    "#### 2.5.2 Lasso"
   ]
  },
  {
   "cell_type": "code",
   "execution_count": null,
   "metadata": {
    "collapsed": true
   },
   "outputs": [],
   "source": [
    "l_alphas=np.arange(0.01,0.1,0.02)\n",
    "l_alphas"
   ]
  },
  {
   "cell_type": "code",
   "execution_count": null,
   "metadata": {
    "collapsed": true
   },
   "outputs": [],
   "source": [
    "from sklearn.metrics import r2_score, mean_squared_error, make_scorer\n",
    "\n",
    "### Uncomment the following initialisation code if this is your first time running this code\n",
    "lasso_data_desc=[]\n",
    "lasso_alphas=[]\n",
    "lasso_scores=[]\n",
    "lasso_grid=[]\n",
    "\n",
    "nn_data_dict={'X_all_pca_s':[X_all_pca_s_train,y_all_pca_s_train,X_all_pca_s_test,y_all_pca_s_test],\n",
    "          'X_all_pca_n':[X_all_pca_n_train,y_all_pca_n_train,X_all_pca_n_test,y_all_pca_n_test],\n",
    "             'X_all_pca':[X_all_pca_train,y_all_pca_train,X_all_pca_test,y_all_pca_test]}  \n",
    "\n",
    "for name,data_items in nn_data_dict.items():\n",
    "    X_train,y_train,X_test,y_test=data_items\n",
    "    \n",
    "    grid,best_alpha,best_score=tune_lasso(l_alphas,X_train,y_train)\n",
    "    \n",
    "    lasso_data_desc.append(name)\n",
    "    lasso_alphas.append(best_alpha)\n",
    "    lasso_scores.append(best_score)\n",
    "    lasso_grid.append(grid)\n",
    "    "
   ]
  },
  {
   "cell_type": "markdown",
   "metadata": {},
   "source": [
    "#### 2.5.3 Elastic Net"
   ]
  },
  {
   "cell_type": "code",
   "execution_count": null,
   "metadata": {
    "collapsed": true
   },
   "outputs": [],
   "source": [
    "#eN_alphas_input=np.arange(0.01,1.1,0.05)\n",
    "#l1_ratios_input=np.arange(0.01,1.1,0.05)\n",
    "\n",
    "eN_alphas_input=np.arange(0.05,0.1,0.005)\n",
    "l1_ratios_input=np.arange(0.05,0.1,0.005)\n",
    "\n",
    "\n",
    "#alphas=np.arange(0.1,0.3,0.1)\n",
    "#l1_ratios=np.arange(0.1,0.3,0.1)\n",
    "\n",
    "parameters=dict(alpha=eN_alphas_input,l1_ratio=l1_ratios_input)\n",
    "parameters"
   ]
  },
  {
   "cell_type": "code",
   "execution_count": null,
   "metadata": {
    "collapsed": true,
    "scrolled": true
   },
   "outputs": [],
   "source": [
    "from sklearn.metrics import r2_score, mean_squared_error, make_scorer\n",
    "\n",
    "### Uncomment the following initialisation code if this is your first time running this code\n",
    "eNet_data_desc=[]\n",
    "eNet_alphas=[]\n",
    "eNet_l1s=[]\n",
    "eNet_scores=[]\n",
    "eNet_grid=[]\n",
    "\n",
    "nn_data_dict={'X_all_pca_s':[X_all_pca_s_train,y_all_pca_s_train,X_all_pca_s_test,y_all_pca_s_test],\n",
    "          'X_all_pca_n':[X_all_pca_n_train,y_all_pca_n_train,X_all_pca_n_test,y_all_pca_n_test],\n",
    "             'X_all_pca':[X_all_pca_train,y_all_pca_train,X_all_pca_test,y_all_pca_test]}  \n",
    "\n",
    "for name,data_items in nn_data_dict.items():\n",
    "    X_train,y_train,X_test,y_test=data_items\n",
    "    \n",
    "    grid,best_alpha,best_l1,best_score=tune_eNet(eN_alphas_input,l1_ratios_input,X_train,y_train)\n",
    "    \n",
    "    eNet_data_desc.append(name)\n",
    "    eNet_alphas.append(best_alpha)\n",
    "    eNet_l1s.append(best_l1)\n",
    "    eNet_scores.append(best_score)\n",
    "    eNet_grid.append(grid)\n",
    "    "
   ]
  },
  {
   "cell_type": "markdown",
   "metadata": {},
   "source": [
    "### 2.6 Analyze tuned models"
   ]
  },
  {
   "cell_type": "markdown",
   "metadata": {},
   "source": [
    "#### 2.6.1 Lasso"
   ]
  },
  {
   "cell_type": "code",
   "execution_count": null,
   "metadata": {
    "collapsed": true
   },
   "outputs": [],
   "source": [
    "lasso_n_indices=[i for i, j in enumerate(lasso_data_desc) if j == 'X_all_pca_n']\n",
    "lasso_s_indices=[i for i, j in enumerate(lasso_data_desc) if j == 'X_all_pca_s']\n",
    "lasso_indices=[i for i, j in enumerate(lasso_data_desc) if j == 'X_all_pca']\n",
    "\n",
    "lasso_n_grids=np.array(lasso_grid)[lasso_n_indices]\n",
    "lasso_s_grids=np.array(lasso_grid)[lasso_s_indices]\n",
    "lasso_grids=np.array(lasso_grid)[lasso_indices]"
   ]
  },
  {
   "cell_type": "code",
   "execution_count": null,
   "metadata": {
    "collapsed": true
   },
   "outputs": [],
   "source": [
    "lasso_grid_data_dict={'X_all_pca_s':lasso_s_grids,\n",
    "                    'X_all_pca_n':lasso_n_grids,\n",
    "                    'X_all_pca':lasso_grids}  \n",
    "\n",
    "best_lasso_data_desc,best_lasso_params,best_lasso_scores=show_best_scores(lasso_grid_data_dict,'alpha','Lasso',fig_x_size=15,fig_y_size=5)"
   ]
  },
  {
   "cell_type": "markdown",
   "metadata": {},
   "source": [
    "#### 2.6.2 Ridge"
   ]
  },
  {
   "cell_type": "code",
   "execution_count": null,
   "metadata": {
    "collapsed": true
   },
   "outputs": [],
   "source": [
    "ridge_n_grids"
   ]
  },
  {
   "cell_type": "code",
   "execution_count": null,
   "metadata": {
    "collapsed": true
   },
   "outputs": [],
   "source": [
    "ridge_n_indices=[i for i, j in enumerate(ridge_data_desc) if j == 'X_all_pca_n']\n",
    "ridge_s_indices=[i for i, j in enumerate(ridge_data_desc) if j == 'X_all_pca_s']\n",
    "ridge_indices=[i for i, j in enumerate(ridge_data_desc) if j == 'X_all_pca']\n",
    "\n",
    "ridge_n_grids=np.array(ridge_grid)[ridge_n_indices]\n",
    "ridge_s_grids=np.array(ridge_grid)[ridge_s_indices]\n",
    "ridge_grids=np.array(ridge_grid)[ridge_indices]"
   ]
  },
  {
   "cell_type": "code",
   "execution_count": null,
   "metadata": {
    "collapsed": true
   },
   "outputs": [],
   "source": [
    "ridge_grid_data_dict={'X_all_pca_s':ridge_s_grids,\n",
    "                    'X_all_pca_n':ridge_n_grids,\n",
    "                    'X_all_pca':ridge_grids}  \n",
    "\n",
    "best_ridge_data_desc,best_ridge_params,best_ridge_scores=show_best_scores(ridge_grid_data_dict,'alpha','Ridge',fig_x_size=15,fig_y_size=5)"
   ]
  },
  {
   "cell_type": "markdown",
   "metadata": {},
   "source": [
    "#### 2.6.3 Elastic Net"
   ]
  },
  {
   "cell_type": "code",
   "execution_count": null,
   "metadata": {
    "collapsed": true
   },
   "outputs": [],
   "source": [
    "eNet_n_indices=[i for i, j in enumerate(eNet_data_desc) if j == 'X_all_pca_n']\n",
    "eNet_s_indices=[i for i, j in enumerate(eNet_data_desc) if j == 'X_all_pca_s']\n",
    "eNet_indices=[i for i, j in enumerate(eNet_data_desc) if j == 'X_all_pca']\n",
    "\n",
    "eNet_n_grids=np.array(eNet_grid)[eNet_n_indices]\n",
    "eNet_s_grids=np.array(eNet_grid)[eNet_s_indices]\n",
    "eNet_grids=np.array(eNet_grid)[eNet_indices]"
   ]
  },
  {
   "cell_type": "code",
   "execution_count": null,
   "metadata": {
    "collapsed": true
   },
   "outputs": [],
   "source": [
    "eNet_grid_data_dict={'X_all_pca_s':eNet_s_grids,\n",
    "                    'X_all_pca_n':eNet_n_grids,\n",
    "                    'X_all_pca':eNet_grids}  \n",
    "\n",
    "best_eNet_data_desc,best_eNet_alpha_params,best_eNet_scores=show_best_scores(eNet_grid_data_dict,'alpha','eNet',fig_x_size=15,fig_y_size=5)\n"
   ]
  },
  {
   "cell_type": "code",
   "execution_count": null,
   "metadata": {
    "collapsed": true
   },
   "outputs": [],
   "source": [
    "best_eNet_data_desc,best_eNet_l1_params,best_eNet_scores=show_best_scores(eNet_grid_data_dict,'l1_ratio','eNet',fig_x_size=15,fig_y_size=5)"
   ]
  },
  {
   "cell_type": "markdown",
   "metadata": {},
   "source": [
    "***Taking a closer look at the case for X_all_pca***"
   ]
  },
  {
   "cell_type": "code",
   "execution_count": null,
   "metadata": {
    "collapsed": true
   },
   "outputs": [],
   "source": [
    "eNet_alpha_params,eNet_scores=get_params_n_scores(eNet_grids,'alpha',to_sort=False)\n",
    "eNet_l1_params,eNet_scores=get_params_n_scores(eNet_grids,'l1_ratio',to_sort=False)\n",
    "\n",
    "eNet_s_alpha_params,eNet_s_scores=get_params_n_scores(eNet_s_grids,'alpha',to_sort=False)\n",
    "eNet_s_l1_params,eNet_s_scores=get_params_n_scores(eNet_s_grids,'l1_ratio',to_sort=False)\n",
    "\n",
    "eNet_n_alpha_params,eNet_n_scores=get_params_n_scores(eNet_n_grids,'alpha',to_sort=False)\n",
    "eNet_n_l1_params,eNet_n_scores=get_params_n_scores(eNet_n_grids,'l1_ratio',to_sort=False)\n"
   ]
  },
  {
   "cell_type": "code",
   "execution_count": null,
   "metadata": {
    "collapsed": true,
    "scrolled": true
   },
   "outputs": [],
   "source": [
    "from mpl_toolkits.mplot3d import Axes3D\n",
    "fig = plt.figure(figsize=(15,5))\n",
    "ax = fig.add_subplot(132, projection='3d')\n",
    "ax.scatter(eNet_l1_params,eNet_alpha_params,eNet_scores)\n",
    "ax.set_xlabel('l1_ratio')\n",
    "ax.set_ylabel('alpha')\n",
    "ax.set_title('X_all_pca')\n",
    "ax.set_xlim(0,12)\n",
    "ax.set_ylim(0,12)\n",
    "\n",
    "    \n",
    "ax2 = fig.add_subplot(131, projection='3d')\n",
    "ax2.scatter(eNet_s_l1_params,eNet_s_alpha_params,eNet_s_scores)\n",
    "ax2.set_xlabel('l1_ratio')\n",
    "ax2.set_ylabel('alpha')\n",
    "ax2.set_title('X_all_pca_s')\n",
    "\n",
    "ax3 = fig.add_subplot(133, projection='3d')\n",
    "ax3.scatter(eNet_n_l1_params,eNet_n_alpha_params,eNet_n_scores)\n",
    "ax3.set_xlabel('l1_ratio')\n",
    "ax3.set_ylabel('alpha')\n",
    "ax3.set_title('X_all_pca_n')\n"
   ]
  },
  {
   "cell_type": "markdown",
   "metadata": {},
   "source": [
    "### 2.3 Optimized Models - $R^2$ metric"
   ]
  },
  {
   "cell_type": "code",
   "execution_count": null,
   "metadata": {
    "collapsed": true
   },
   "outputs": [],
   "source": [
    "best_ridge_params"
   ]
  },
  {
   "cell_type": "code",
   "execution_count": null,
   "metadata": {
    "collapsed": true
   },
   "outputs": [],
   "source": [
    "best_ridge_data_desc"
   ]
  },
  {
   "cell_type": "code",
   "execution_count": null,
   "metadata": {
    "collapsed": true,
    "scrolled": true
   },
   "outputs": [],
   "source": [
    "ridge_df=create_param_df(best_ridge_params,best_ridge_scores,best_ridge_data_desc,'alpha','ridge')\n",
    "lasso_df=create_param_df(best_lasso_params,best_lasso_scores,best_lasso_data_desc,'alpha','lasso')\n",
    "eNet_df1=create_param_df(best_eNet_alpha_params,best_eNet_scores,best_eNet_data_desc,'alpha','eNet')\n",
    "eNet_df2=create_param_df(best_eNet_l1_params,best_eNet_scores,best_eNet_data_desc,'l1_ratio','eNet')\n",
    "eNet_df=pd.concat([eNet_df1,eNet_df2])\n",
    "best_params_df=pd.concat([eNet_df,ridge_df,lasso_df])\n",
    "best_params_df"
   ]
  },
  {
   "cell_type": "code",
   "execution_count": null,
   "metadata": {
    "collapsed": true
   },
   "outputs": [],
   "source": [
    "%store best_params_df"
   ]
  },
  {
   "cell_type": "code",
   "execution_count": null,
   "metadata": {
    "collapsed": true,
    "scrolled": true
   },
   "outputs": [],
   "source": [
    "#data_list=['X_all_pca_s_train','X_all_pca_n_train','X_all_pca_train']\n",
    "model_list=['linear','lasso','ridge','eNet']\n",
    "data_list_dict=['X_all_pca_s','X_all_pca_n','X_all_pca']\n",
    "\n",
    "\n",
    "data_dict={'X_all_pca_s':[X_all_pca_s_train,y_all_train],\n",
    "          'X_all_pca_n':[X_all_pca_n_train,y_all_train],\n",
    "          'X_all_pca':[X_all_pca_n_train,y_all_train]}  \n",
    "\n",
    "linear_o_data,linear_o_names,linear_o_results=run_comparisons(data_dict,model_list,best_params_df)\n",
    "\n",
    "#titles_dict={'X_all_pca_s':'Standardized Data',\n",
    "#          'X_all_pca_n':'Normalized Data',\n",
    "#          'X_all_pca':'Non Standardized, Non Normalized'}  \n",
    "\n",
    "#plot1=linear_o_results[0]\n",
    "#plot2=linear_o_results[2]\n",
    "#plot3=linear_o_results[1]\n",
    "\n",
    "#title1=titles_dict.get(linear_o_data[0])\n",
    "#title2=titles_dict.get(linear_o_data[2])\n",
    "#title3=titles_dict.get(linear_o_data[1])\n",
    "\n",
    "#label1=linear_o_names[0]\n",
    "#label2=linear_o_names[2]\n",
    "#label3=linear_o_names[1]\n",
    "\n",
    "#optimized_linear_plots=plot_linear_models(plot1,title1,label1,\\\n",
    "#                   plot2,title2,label2,\\\n",
    "#                   plot3,title3,label3,\\\n",
    "#                   score='r2 score',suptitle='Optimized Performance of Linear Models')\n"
   ]
  },
  {
   "cell_type": "code",
   "execution_count": null,
   "metadata": {
    "collapsed": true
   },
   "outputs": [],
   "source": [
    "# reordering plots\n",
    "titles_dict={'X_all_pca_s':'Standardized Data',\n",
    "          'X_all_pca_n':'Normalized Data',\n",
    "          'X_all_pca':'Non Standardized, Non Normalized'}  \n",
    "\n",
    "\n",
    "plot2=linear_o_results[1]\n",
    "plot1=linear_o_results[2]\n",
    "plot3=linear_o_results[0]\n",
    "\n",
    "title2=titles_dict.get(linear_o_data[1])\n",
    "title1=titles_dict.get(linear_o_data[2])\n",
    "title3=titles_dict.get(linear_o_data[0])\n",
    "\n",
    "label2=linear_o_names[1]\n",
    "label1=linear_o_names[2]\n",
    "label3=linear_o_names[0]\n",
    "\n",
    "\n",
    "plot_linear_models(plot1,title1,label1,\\\n",
    "                   plot2,title2,label2,\\\n",
    "                   plot3,title3,label3,\\\n",
    "                   score='r2 score',suptitle='Optimized Performance of Linear Models')"
   ]
  },
  {
   "cell_type": "markdown",
   "metadata": {},
   "source": [
    "### Optimized vs Baseline Model"
   ]
  },
  {
   "cell_type": "code",
   "execution_count": null,
   "metadata": {
    "collapsed": true,
    "scrolled": false
   },
   "outputs": [],
   "source": [
    "best_params_df"
   ]
  },
  {
   "cell_type": "code",
   "execution_count": null,
   "metadata": {
    "collapsed": true,
    "scrolled": true
   },
   "outputs": [],
   "source": [
    "best_params_df.sort_values(by=['Data'])"
   ]
  },
  {
   "cell_type": "code",
   "execution_count": null,
   "metadata": {
    "collapsed": true,
    "scrolled": true
   },
   "outputs": [],
   "source": [
    "from sklearn.linear_model import LinearRegression,Lasso,Ridge,ElasticNet\n",
    "#model performance on test data\n",
    "comparison_db_desc=[]\n",
    "comparison_db_r2=[]\n",
    "comparison_db_mse=[]\n",
    "comparison_db_model=[]\n",
    "comparison_db_modelType=[]\n",
    "comparison_db_cat=[]\n",
    "\n",
    "#nFolds=10\n",
    "#scoring='r2'\n",
    "\n",
    "base_models_dict={'linear':LinearRegression(),\n",
    "             'lasso':Lasso(random_state=123),\n",
    "             'ridge':Ridge(random_state=123),\n",
    "             'eNet':ElasticNet(random_state=123)}      \n",
    "        \n",
    "data_dict={'X_all_pca_s':[X_all_pca_s_train,y_all_train,X_all_pca_s_test,y_all_test],\n",
    "          'X_all_pca_n':[X_all_pca_n_train,y_all_train,X_all_pca_n_test,y_all_test],\n",
    "          'X_all_pca':[X_all_pca_n_train,y_all_train,X_all_pca_n_test,y_all_test]}  \n",
    "\n",
    "for name,data_item in data_dict.items():\n",
    "    X_train,y_train,X_test,y_test=data_item\n",
    "    print(\"========================== Processing %s ======================\" % name)\n",
    "    counter=1\n",
    "    for model_type in ['linear','ridge','lasso','eNet']:\n",
    "        # process baseline models\n",
    "        print(\"%d: processing %s baseline models ..........\" %(counter,model_type))\n",
    "        model_base=base_models_dict.get(model_type)\n",
    "        trained_model,test_r2,test_mse=run_model(model_base,X_train, y_train, X_test, y_test)\n",
    "        \n",
    "        comparison_db_desc.append(name)\n",
    "        comparison_db_r2.append(test_r2)\n",
    "        comparison_db_mse.append(test_mse)\n",
    "        comparison_db_model.append(trained_model)\n",
    "        comparison_db_modelType.append(model_type)\n",
    "        comparison_db_cat.append('baseline')\n",
    "        \n",
    "        # process tuned models\n",
    "        print(\"processing %s tuned models ..........\" %model_type)\n",
    "        model_base=get_tuned_model(name,model_type,best_params_df)\n",
    "#        print(\"tuned_model: %s\" % model_base)\n",
    "        trained_model,test_r2,test_mse=run_model(model_base,X_train, y_train, X_test, y_test)\n",
    "        comparison_db_desc.append(name)\n",
    "        comparison_db_r2.append(test_r2)\n",
    "        comparison_db_mse.append(test_mse)\n",
    "        comparison_db_model.append(trained_model)\n",
    "        comparison_db_modelType.append(model_type)\n",
    "        comparison_db_cat.append('tuned')\n",
    "        \n",
    "        counter+=1"
   ]
  },
  {
   "cell_type": "code",
   "execution_count": null,
   "metadata": {
    "collapsed": true,
    "scrolled": true
   },
   "outputs": [],
   "source": [
    "comparison_df=pd.DataFrame({'Data':comparison_db_desc,\n",
    "                           'r2':comparison_db_r2,\n",
    "                           'mse':comparison_db_mse,\n",
    "                           'model':comparison_db_model,\n",
    "                           'model type':comparison_db_modelType,\n",
    "                           'basis':comparison_db_cat})\n",
    "#comparison_db_desc\n",
    "#comparison_db_r2\n",
    "#comparison_db_mse\n",
    "#comparison_db_model\n",
    "#comparison_db_modelType\n",
    "#comparison_db_cat\n",
    "comparison_df"
   ]
  },
  {
   "cell_type": "code",
   "execution_count": null,
   "metadata": {
    "collapsed": true
   },
   "outputs": [],
   "source": [
    "base_df=comparison_df[comparison_df['basis']=='baseline']\n",
    "tuned_df=comparison_df[comparison_df['basis']=='tuned']\n",
    "#new_df=pd.DataFrame()\n",
    "#comparison_df['Data'].unique()"
   ]
  },
  {
   "cell_type": "code",
   "execution_count": null,
   "metadata": {
    "collapsed": true
   },
   "outputs": [],
   "source": [
    "%store comparison_df"
   ]
  },
  {
   "cell_type": "code",
   "execution_count": null,
   "metadata": {
    "collapsed": true
   },
   "outputs": [],
   "source": []
  },
  {
   "cell_type": "code",
   "execution_count": null,
   "metadata": {
    "collapsed": true
   },
   "outputs": [],
   "source": [
    "linear_best_score,linear_best_basis,linear_best_model,linear_best_data=get_best_overall_score(comparison_df,'r2')\n",
    "\n",
    "print('\\nBest r2 score: %.8f \\nBest model: %s \\nBest basis: %s  \\nBest data source: %s' % (linear_best_score,linear_best_model,linear_best_basis,linear_best_data))"
   ]
  },
  {
   "cell_type": "code",
   "execution_count": null,
   "metadata": {
    "collapsed": true
   },
   "outputs": [],
   "source": [
    "best_linear_model=comparison_df['model'][(comparison_df['basis']==linear_best_basis) & \n",
    "                                         (comparison_df['model type']==linear_best_model) &\n",
    "                                        (comparison_df['Data']==linear_best_data)]\n",
    "best_linear_model\n"
   ]
  },
  {
   "cell_type": "code",
   "execution_count": null,
   "metadata": {
    "collapsed": true
   },
   "outputs": [],
   "source": [
    "%store X_all_pca_s_test\n",
    "%store X_all_pca_s_train\n",
    "%store y_all_pca_s_test\n",
    "%store X_all_pca_s_train"
   ]
  },
  {
   "cell_type": "code",
   "execution_count": null,
   "metadata": {
    "collapsed": true
   },
   "outputs": [],
   "source": [
    "linear_best_param=best_params_df[(best_params_df['Data']==linear_best_data) & \n",
    "                                       (best_params_df['model']==linear_best_model)]\n",
    "\n",
    "linear_best_param"
   ]
  },
  {
   "cell_type": "code",
   "execution_count": null,
   "metadata": {
    "collapsed": true
   },
   "outputs": [],
   "source": [
    "best_alpha=float(linear_best_param[linear_best_param['param_type']=='alpha']['best_param'])\n",
    "# uncomment if the best model is an eNet\n",
    "#best_l1=float(linear_best_param[linear_best_param['param_type']=='l1_ratio']['best_param'])\n",
    "#best_linear_model=linear_best_param[linear_best_param['param_type']=='alpha']['model'][0]\n",
    "best_linear_model=linear_best_param[linear_best_param['param_type']=='alpha']['model']"
   ]
  },
  {
   "cell_type": "code",
   "execution_count": null,
   "metadata": {
    "collapsed": true
   },
   "outputs": [],
   "source": [
    "print(\"Best linear model: %s \\nBest alpha: %.8f \\nBest l1_ratio: %.8f\" % (best_linear_model,best_alpha,best_l1))"
   ]
  },
  {
   "cell_type": "code",
   "execution_count": null,
   "metadata": {
    "collapsed": true
   },
   "outputs": [],
   "source": [
    "# this code needs to be modified according to which model ends up best\n",
    "best_linear_model2=ElasticNet(alpha=best_alpha,l1_ratio=best_l1,random_state=123)\n",
    "best_linear_model2.fit(X_all_pca_s_train,y_all_pca_s_train)\n",
    "\n",
    "linear_predictions=best_linear_model2.predict(X_all_pca_s_test)\n",
    "\n",
    "linear_r2=performance_metric(y_all_pca_s_test,linear_predictions)\n",
    "linear_mse=performance_metric(linear_predictions,y_all_pca_s_test)\n",
    "\n",
    "print(\"================ BEST LINEAR MODEL PERFORMANCE ON TEST SET: ===================\")\n",
    "print(\"r2_score: %.8f \\nBest mse: %.8f\" % (linear_r2,linear_mse))"
   ]
  },
  {
   "cell_type": "code",
   "execution_count": null,
   "metadata": {
    "collapsed": true
   },
   "outputs": [],
   "source": [
    "linear_r2=performance_metric(y_all_pca_s_test,linear_predictions)\n",
    "linear_mse=get_mse(linear_predictions,y_all_pca_s_test)\n",
    "\n",
    "print(\"================ BEST LINEAR MODEL PERFORMANCE ON TEST SET: ===================\")\n",
    "print(\"r2_score: %.8f \\nBest mse: %.8f\" % (linear_r2,linear_mse))"
   ]
  },
  {
   "cell_type": "code",
   "execution_count": null,
   "metadata": {
    "collapsed": true
   },
   "outputs": [],
   "source": [
    "linear_test_pred,linear_train_pred=evaluate_model(X_all_pca_s_test,y_all_pca_s_test,\\\n",
    "                                                  X_all_pca_s_train,y_all_pca_s_train,best_linear_model2)\n",
    "\n",
    "#linear_r2=performance_metric(y_all_pca_s_test,pd.DataFrame(nn_model2_predictions)[0].values)\n",
    "#nn_mse=get_mse(pd.DataFrame(nn_model2_predictions)[0].values,y_all_pca_s_test)\n",
    "\n",
    "print(\"================ BEST LINEAR MODEL PERFORMANCE ON TEST SET: ===================\")\n",
    "print(\"r2_score: %.8f \\nBest mse: %.8f\" % (linear_r2,linear_mse))\n",
    "\n",
    "plot_residuals(linear_test_pred,y_all_pca_s_test,\"Best Linear Model - Actual vs Predictions (TEST DATA) \")"
   ]
  },
  {
   "cell_type": "code",
   "execution_count": null,
   "metadata": {
    "collapsed": true
   },
   "outputs": [],
   "source": [
    "linear_test_pred,linear_train_pred=evaluate_model(X_all_pca_s_test,y_all_pca_s_test,\\\n",
    "                                                  X_all_pca_s_train,y_all_pca_s_train,best_linear_model2)\n",
    "plot_residuals(linear_test_pred,y_all_pca_s_test,\"Best Linear Model - Actual vs Predictions (TEST DATA) \")"
   ]
  },
  {
   "cell_type": "code",
   "execution_count": null,
   "metadata": {
    "collapsed": true
   },
   "outputs": [],
   "source": [
    "#data_list=['X_all_pca_s','X_all_pca','X_all_pca_n']\n",
    "data_list=list(comparison_df['Data'].unique())\n",
    "num_plots=len(data_list)\n",
    "metric='r2'\n",
    "index_value=0\n",
    "\n",
    "fig=plt.figure(figsize=(12,4))\n",
    "fig.suptitle(\"Comparison of Linear Models - Baseline vs Tuned\")\n",
    "\n",
    "ax=fig.add_subplot(1,num_plots,num_plots-index_value)\n",
    "data=data_list[index_value]\n",
    "plot_df=comparison_df[comparison_df['Data']==data]\n",
    "\n",
    "plot_comparison(plot_df,metric,ax)\n",
    "index_value+=1\n",
    "\n",
    "while index_value<num_plots:\n",
    "    data=data_list[index_value]\n",
    "    plot_df=comparison_df[comparison_df['Data']==data]\n",
    "    \n",
    "    ax1=fig.add_subplot(1,num_plots,num_plots-index_value,sharey=ax)\n",
    "    plot_comparison(plot_df,metric,ax1,have_legend=False)\n",
    "\n",
    "    index_value+=1\n"
   ]
  },
  {
   "cell_type": "markdown",
   "metadata": {},
   "source": [
    "#### Comparison by $R^2$"
   ]
  },
  {
   "cell_type": "code",
   "execution_count": null,
   "metadata": {
    "collapsed": true
   },
   "outputs": [],
   "source": [
    "for data in data_list:\n",
    "    r2_pivot=get_table(comparison_df[comparison_df['Data']==data],'r2')\n",
    "    print(\"\\n===================== %s ======================\\n\" %data)\n",
    "    print(r2_pivot)"
   ]
  },
  {
   "cell_type": "markdown",
   "metadata": {},
   "source": [
    "#### Compare model performance by dataset"
   ]
  },
  {
   "cell_type": "code",
   "execution_count": null,
   "metadata": {
    "collapsed": true
   },
   "outputs": [],
   "source": [
    "for data in data_list:\n",
    "    df=comparison_df[comparison_df['Data']==data]\n",
    "    print(\"\\n===================== %s ======================\" %data)\n",
    "    best_score,best_basis,best_model=get_best_score(df,'r2')\n",
    "    print(df[['Data','basis','model type','mse','r2']])\n",
    "    print('\\nBest r2 score: %.8f \\nBest model: %s \\nBest basis: %s' % (best_score,best_model,best_basis))"
   ]
  },
  {
   "cell_type": "markdown",
   "metadata": {},
   "source": [
    "#### Best model score by dataset"
   ]
  },
  {
   "cell_type": "code",
   "execution_count": null,
   "metadata": {
    "collapsed": true
   },
   "outputs": [],
   "source": [
    "for data in data_list:\n",
    "    df=comparison_df[comparison_df['Data']==data]\n",
    "    print(\"===================== %s ======================\" %data)\n",
    "    best_score,best_basis,best_model=get_best_score(df,'r2')\n",
    "    print('Best r2 score: %.8f \\nBest model: %s \\nBest basis: %s' % (best_score,best_model,best_basis))"
   ]
  },
  {
   "cell_type": "markdown",
   "metadata": {},
   "source": [
    "##### Best overall score"
   ]
  },
  {
   "cell_type": "code",
   "execution_count": null,
   "metadata": {
    "collapsed": true
   },
   "outputs": [],
   "source": [
    "best_score,best_basis,best_model=get_best_score(comparison_df,'r2')\n",
    "print('Best r2 score: %.8f \\nBest model: %s \\nBest basis: %s' % (best_score,best_model,best_basis))"
   ]
  },
  {
   "cell_type": "markdown",
   "metadata": {},
   "source": [
    "#### Comparison by mse"
   ]
  },
  {
   "cell_type": "code",
   "execution_count": null,
   "metadata": {
    "collapsed": true
   },
   "outputs": [],
   "source": [
    "for data in data_list:\n",
    "    r2_pivot=get_table(comparison_df[comparison_df['Data']==data],'mse')\n",
    "    print(\"\\n===================== %s ======================\\n\" %data)\n",
    "    print(r2_pivot)"
   ]
  },
  {
   "cell_type": "code",
   "execution_count": null,
   "metadata": {
    "collapsed": true
   },
   "outputs": [],
   "source": [
    "for data in data_list:\n",
    "    r2_pivot=get_table(comparison_df[comparison_df['Data']==data],'mse')\n",
    "    print(\"\\n===================== %s ======================\\n\" %data)\n",
    "    print(r2_pivot)"
   ]
  },
  {
   "cell_type": "code",
   "execution_count": null,
   "metadata": {
    "collapsed": true
   },
   "outputs": [],
   "source": [
    "for data in data_list:\n",
    "    df=comparison_df[comparison_df['Data']==data]\n",
    "    print(\"===================== %s ======================\" %data)\n",
    "    best_score,best_basis,best_model=get_best_score(df,'mse')\n",
    "    print('Best mse score: %.8f \\nBest model: %s \\nBest basis: %s' % (best_score,best_model,best_basis))"
   ]
  },
  {
   "cell_type": "markdown",
   "metadata": {},
   "source": [
    "## 3. Neural Network"
   ]
  },
  {
   "cell_type": "markdown",
   "metadata": {},
   "source": [
    "**Notes:**\n",
    "- as this is a regression problem, the output layer has a single output neuron and the neuron has no activation function\n",
    "\n",
    "**Data Preparation steps:**\n",
    "- Data must be **numerical**. X_all and Y_all above have been one-hot encoded.\n",
    "- Data inputs must be scaled in a consistent way.  Hence the dataset below has been rescaled to (0,1).  \n",
    "- An alternative scaling approach: standardize data - this assumes a Gaussian distribution of input features (this is not supported from the histogram of distributions previously seen??).\n",
    "-  "
   ]
  },
  {
   "cell_type": "markdown",
   "metadata": {},
   "source": [
    "***Run neural networks at different levels of depth i.e. different numbers of hidden layers***"
   ]
  },
  {
   "cell_type": "code",
   "execution_count": null,
   "metadata": {
    "collapsed": true
   },
   "outputs": [],
   "source": [
    "%store comparison_df"
   ]
  },
  {
   "cell_type": "code",
   "execution_count": null,
   "metadata": {
    "collapsed": true,
    "scrolled": true
   },
   "outputs": [],
   "source": [
    "numEpochs=5\n",
    "batch_size=100\n",
    "num_hidden_layers=5\n",
    "\n",
    "### uncomment the following initialising code if it is your first time running this function\n",
    "nn_models=[]\n",
    "nn_scores=[]\n",
    "nn_cv_models=[]\n",
    "nn_cv_scores=[]\n",
    "nn_model_name=[]\n",
    "nn_hidden_layers=[]\n",
    "\n",
    "nn_data_dict={'X_all_pca_s':[X_all_pca_s_train,y_all_pca_s_train,X_all_pca_s_test,y_all_pca_s_test],\n",
    "          'X_all_pca_n':[X_all_pca_n_train,y_all_pca_n_train,X_all_pca_n_test,y_all_pca_n_test],\n",
    "             'X_all_pca':[X_all_pca_train,y_all_pca_train,X_all_pca_test,y_all_pca_test]}   \n",
    "\n",
    "#nn_data_dict={'X_all_pca':[X_all_pca_train,y_all_pca_train,X_all_pca_test,y_all_pca_test]}   \n",
    "\n",
    "\n",
    "for name,data_items in nn_data_dict.items():\n",
    "    X_train,y_train,X_test,y_test=data_items\n",
    "    \n",
    "    hidden_layers=1\n",
    "    \n",
    "    while hidden_layers<=num_hidden_layers:\n",
    "        model,score,cv_models,cv_scores=run_NN(X_train,y_train,X_test,y_test,\\\n",
    "                num_epochs=numEpochs,batchSize=batch_size,num_hidden_layers=hidden_layers,random_state=123,verbose=False)\n",
    "        nn_models.append(model)\n",
    "        nn_scores.append(score)\n",
    "        nn_cv_models.append(cv_models)\n",
    "        nn_cv_scores.append(cv_scores)\n",
    "        nn_model_name.append(name)\n",
    "        nn_hidden_layers.append(hidden_layers)\n",
    "        \n",
    "        hidden_layers+=1"
   ]
  },
  {
   "cell_type": "code",
   "execution_count": null,
   "metadata": {
    "collapsed": true,
    "scrolled": true
   },
   "outputs": [],
   "source": [
    "#% store nn_models\n",
    "% store nn_scores\n",
    "#% store nn_cv_models\n",
    "% store nn_cv_scores\n",
    "% store nn_model_name\n",
    "% store nn_hidden_layers\n"
   ]
  },
  {
   "cell_type": "code",
   "execution_count": null,
   "metadata": {
    "collapsed": true,
    "scrolled": true
   },
   "outputs": [],
   "source": [
    "nn_df=pd.DataFrame({'Data Source':nn_model_name,\n",
    "                    'Hidden Layers':nn_hidden_layers,\n",
    "                    'cv_scores':nn_cv_scores,\n",
    "                    'test_mse':nn_scores,\n",
    "                    'models':nn_models,\n",
    "                    'cv_models':nn_cv_models\n",
    "                   })\n",
    "\n",
    "#nn_df['Data Source']=nn_df['Data Source'].replace(['X_model_ns'],'X_all_pca')\n",
    "#nn_df['Data Source']=nn_df['Data Source'].replace(['X_model'],'X_all_pca_s')\n",
    "\n",
    "nn_df"
   ]
  },
  {
   "cell_type": "code",
   "execution_count": null,
   "metadata": {
    "collapsed": true
   },
   "outputs": [],
   "source": [
    "nn_data_dict={'X_all_pca_s':[X_all_pca_s_train,y_all_pca_s_train,X_all_pca_s_test,y_all_pca_s_test],\n",
    "          'X_all_pca_n':[X_all_pca_n_train,y_all_pca_n_train,X_all_pca_n_test,y_all_pca_n_test],\n",
    "             'X_all_pca':[X_all_pca_train,y_all_pca_train,X_all_pca_test,y_all_pca_test]}  \n",
    "\n",
    "\n",
    "def show_best_scores(data_dict,param_name,model_name,fig_x_size=15,fig_y_size=5):\n",
    "\n",
    "    num_items=len(data_dict)\n",
    "\n",
    "    best_names=[]\n",
    "    best_scores=[]\n",
    "    best_params=[]\n",
    "\n",
    "    num_plots=len(data_dict)\n",
    "    plot_position=1\n",
    "    \n",
    "    fig=plt.figure(figsize=(fig_x_size,fig_y_size))\n",
    "    fig.suptitle(model_name)\n",
    "    \n",
    "    for name,data_items in data_dict.items():\n",
    "        grids=data_items\n",
    "    \n",
    "        params,scores=get_params_n_scores(grids,param_name)\n",
    "        best_param,best_score=get_best_param_n_score(params,scores)\n",
    "\n",
    "        best_params.append(best_param)\n",
    "        best_scores.append(best_score)\n",
    "        best_names.append(name)\n",
    "    \n",
    "        #ax=fig.add_subplot(1,num_plots,plot_position)\n",
    "        #plot_params(params,scores,param_name,'r2',name,ax)\n",
    "        #ax.set_title(title)\n",
    "        #ax.set_ylabel(y_label)\n",
    "        #ax.set_xlabel(x_label)\n",
    "\n",
    "        plot_params(params,scores,param_name,'r2',name,plot_position,num_plots,fig)\n",
    "              \n",
    "        plot_position+=1\n",
    "    \n",
    "    fig.tight_layout()\n",
    "    fig.subplots_adjust(top=0.88)\n",
    "    #plt.show()    \n",
    "    return best_names,best_params,best_scores"
   ]
  },
  {
   "cell_type": "code",
   "execution_count": null,
   "metadata": {
    "collapsed": true
   },
   "outputs": [],
   "source": [
    "nn_df_all_pca=nn_df[nn_df['Data Source']=='X_all_pca']\n",
    "nn_df_all_pca_s=nn_df[nn_df['Data Source']=='X_all_pca_s']\n",
    "nn_df_all_pca_n=nn_df[nn_df['Data Source']=='X_all_pca_n']\n"
   ]
  },
  {
   "cell_type": "code",
   "execution_count": null,
   "metadata": {
    "collapsed": true,
    "scrolled": true
   },
   "outputs": [],
   "source": [
    "nn_df2=nn_df[['Data Source','Hidden Layers','cv_scores','test_mse']]\n",
    "nn_df2"
   ]
  },
  {
   "cell_type": "code",
   "execution_count": null,
   "metadata": {
    "collapsed": true
   },
   "outputs": [],
   "source": [
    "%store nn_df2"
   ]
  },
  {
   "cell_type": "code",
   "execution_count": null,
   "metadata": {
    "collapsed": true
   },
   "outputs": [],
   "source": [
    "index_value=0\n",
    "num_plots=len(data_list)\n",
    "\n",
    "fig=plt.figure(figsize=(12,4))\n",
    "#fig=plt.figure(figsize=(15,5))\n",
    "fig.suptitle(\"Neural Networks - mse by Number of Hidden Layers\")\n",
    "\n",
    "data=data_list[index_value]\n",
    "plot_data=nn_df2[nn_df2['Data Source']==data]\n",
    "    \n",
    "ax=fig.add_subplot(1,num_plots,num_plots-index_value)\n",
    "nn_plot(plot_data,ax,data,have_legend=True)\n",
    "#nn_plot_scatter(plot_data,ax)\n",
    "\n",
    "index_value+=1\n",
    "\n",
    "while index_value<num_plots:\n",
    "    data=data_list[index_value]\n",
    "    ax1=fig.add_subplot(1,num_plots,num_plots-index_value) #,sharey=ax)\n",
    "    plot_data=nn_df2[nn_df2['Data Source']==data]\n",
    "    nn_plot(plot_data,ax1,data)\n",
    "    \n",
    "    index_value+=1\n",
    "    \n",
    "fig.tight_layout()\n",
    "\n",
    "fig.subplots_adjust(top=0.85)"
   ]
  },
  {
   "cell_type": "code",
   "execution_count": null,
   "metadata": {
    "collapsed": true
   },
   "outputs": [],
   "source": [
    "metric='test_mse'\n",
    "\n",
    "for data in data_list:\n",
    "    df=nn_df2[nn_df2['Data Source']==data]\n",
    "    print(\"===================== %s ======================\" %data)\n",
    "    \n",
    "    best_score,best_basis,best_model=get_best_score_nn(df,'test_mse')\n",
    "    \n",
    "    print('Best %s score: %.8f \\nBest model (number of layers): %s \\nBest dataset: %s' % (metric,best_score,best_model,best_basis))"
   ]
  },
  {
   "cell_type": "code",
   "execution_count": null,
   "metadata": {
    "collapsed": true
   },
   "outputs": [],
   "source": [
    "for data in data_list:\n",
    "    df=nn_df2[nn_df2['Data Source']==data]\n",
    "    print(\"\\n===================== %s ======================\\n\" %data)\n",
    "    df1=pd.DataFrame(df[['Hidden Layers','test_mse']].sort_values(by=['Hidden Layers'],ascending=True))\n",
    "    print(df1)"
   ]
  },
  {
   "cell_type": "code",
   "execution_count": null,
   "metadata": {
    "collapsed": true
   },
   "outputs": [],
   "source": [
    "for data in data_list:\n",
    "    df=nn_df2[nn_df2['Data Source']==data]\n",
    "    print(\"\\n===================== %s ======================\\n\" %data)\n",
    "    df1=pd.DataFrame(df[['Hidden Layers','test_mse']].sort_values(by=['Hidden Layers'],ascending=True))\n",
    "    print(df1)\n",
    "    best_score,best_basis,best_model=get_best_score_nn(df,'test_mse')\n",
    "    \n",
    "    print('\\nBest %s score: %.8f \\nBest model (number of layers): %s \\nBest dataset: %s' % (metric,best_score,best_model,best_basis))"
   ]
  },
  {
   "cell_type": "code",
   "execution_count": null,
   "metadata": {
    "collapsed": true
   },
   "outputs": [],
   "source": [
    "best_score,best_basis,best_model=get_best_score_nn(nn_df2,'test_mse')\n",
    "print(\"===================== Best Neural Network Model ======================\")\n",
    "print('\\nBest %s score: %.8f \\nBest model (number of layers): %s \\nBest dataset: %s' % (metric,best_score,best_model,best_basis))"
   ]
  },
  {
   "cell_type": "code",
   "execution_count": null,
   "metadata": {
    "collapsed": true
   },
   "outputs": [],
   "source": [
    "num_inputs=X_all_pca_s_train.shape[1]\n",
    "num_epochs=5\n",
    "batchSize=100\n",
    "\n",
    "best_nn_model2=NN_baseModel(num_inputs,num_hidden_layers=3)\n",
    "best_nn_model2.fit(np.array(X_all_pca_s_train),np.array(y_all_pca_s_train),epochs=num_epochs,batch_size=batchSize,verbose=True)"
   ]
  },
  {
   "cell_type": "code",
   "execution_count": null,
   "metadata": {
    "collapsed": true
   },
   "outputs": [],
   "source": [
    "X_all_pca_s_test.shape"
   ]
  },
  {
   "cell_type": "code",
   "execution_count": null,
   "metadata": {
    "collapsed": true
   },
   "outputs": [],
   "source": [
    "best_nn_model2.metrics_names"
   ]
  },
  {
   "cell_type": "code",
   "execution_count": null,
   "metadata": {
    "collapsed": true,
    "scrolled": true
   },
   "outputs": [],
   "source": [
    "nn_model2_predictions=best_nn_model2.predict(X_all_pca_s_test.values) #,batch_size=100,verbose=True)"
   ]
  },
  {
   "cell_type": "code",
   "execution_count": null,
   "metadata": {
    "collapsed": true
   },
   "outputs": [],
   "source": [
    "nn_preds_df=pd.DataFrame(nn_model2_predictions)"
   ]
  },
  {
   "cell_type": "code",
   "execution_count": null,
   "metadata": {
    "collapsed": true,
    "scrolled": false
   },
   "outputs": [],
   "source": [
    "nn_r2=performance_metric(y_all_pca_s_test,pd.DataFrame(nn_model2_predictions)[0].values)\n",
    "nn_mse=get_mse(pd.DataFrame(nn_model2_predictions)[0].values,y_all_pca_s_test)\n",
    "\n",
    "print(\"================ BEST NEURAL NETWORK PERFORMANCE ON TEST SET: ===================\")\n",
    "print(\"r2_score: %.8f \\nBest mse: %.8f\" % (nn_r2,nn_mse))\n",
    "\n",
    "plot_residuals(pd.DataFrame(nn_model2_predictions)[0].values,y_all_pca_s_test,\"Best Neural Network - Actual vs Predictions (TEST DATA) \")\n",
    "\n",
    "#print(\"Results from best neural network:\")\n",
    "#print(\"r2 score: %.8f    \\nmse: %.8f\" % (nn_r2,nn_mse))"
   ]
  },
  {
   "cell_type": "code",
   "execution_count": null,
   "metadata": {
    "collapsed": true
   },
   "outputs": [],
   "source": [
    "print(\"================ BEST NEURAL NETWORK PERFORMANCE ON TEST SET: ===================\")\n",
    "print(\"r2_score: %.8f \\nBest mse: %.8f\" % (nn_r2,nn_mse))\n",
    "\n",
    "print(\"================ BEST LINEAR MODEL PERFORMANCE ON TEST SET: ===================\")\n",
    "print(\"r2_score: %.8f \\nBest mse: %.8f\" % (linear_r2,linear_mse))\n"
   ]
  },
  {
   "cell_type": "markdown",
   "metadata": {},
   "source": [
    "\n",
    "\n",
    "## Conclusions"
   ]
  },
  {
   "cell_type": "markdown",
   "metadata": {},
   "source": [
    "\n",
    "The following table summarizes insights that are specific to this project:\n",
    "\n",
    "| Item |Description  | Comment\n",
    "| :---------------: | :---------------- | :------------------- |:------------------- |\n",
    "| Data Transformation|Standardisation produces the best results|  |\n",
    "| Missing values | Even sparse features have information content as the PCA approach preferred a complete dataset rather than one with less sparse features |\n",
    "| Feature selection | PCA provided better results than Feature Importance via a standard XGBoost model or a Random Forest model|\n",
    "| Neural Network | A deeper network architecture could lead to poorer results possibly due to overfitting|\n",
    "| Best Feature Selection Technique|PCA | Compared to the Feature Importance method using **xgboost** and **random forest**\n",
    "|Best linear data transformation | Standardized\n",
    "|Best Linear Model | ElasticNet  \n",
    "|Best Linear Model Parameters | PCA \n",
    "|Best Linear $R^2$ | 0.01007631\n",
    "|Best Linear mse | 0.02438977\n",
    "|Best NN $R^2$ | 0.01007631\n",
    "|Best NN mse | 0.02438977\n",
    "|Best Number of Hidden Layers | 3  \n",
    "\n",
    "\n"
   ]
  }
 ],
 "metadata": {
  "kernelspec": {
   "display_name": "Python 3",
   "language": "python",
   "name": "python3"
  },
  "language_info": {
   "codemirror_mode": {
    "name": "ipython",
    "version": 3
   },
   "file_extension": ".py",
   "mimetype": "text/x-python",
   "name": "python",
   "nbconvert_exporter": "python",
   "pygments_lexer": "ipython3",
   "version": "3.5.2"
  },
  "widgets": {
   "state": {},
   "version": "1.1.2"
  }
 },
 "nbformat": 4,
 "nbformat_minor": 2
}
