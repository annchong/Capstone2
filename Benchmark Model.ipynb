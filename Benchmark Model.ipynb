{
 "cells": [
  {
   "cell_type": "markdown",
   "metadata": {},
   "source": [
    "The purpose of this workbook is to demonstrate the calculation of the benchmark model parameters."
   ]
  },
  {
   "cell_type": "code",
   "execution_count": 2,
   "metadata": {},
   "outputs": [],
   "source": [
    "%store -r train_enhanced"
   ]
  },
  {
   "cell_type": "code",
   "execution_count": 30,
   "metadata": {},
   "outputs": [],
   "source": [
    "from sklearn.cross_validation import train_test_split\n",
    " \n",
    "#X_all=process_features(train_enhanced[categorical_vars.columns],train_enhanced[non_categorical_vars.columns])\n",
    "Y_all=train_enhanced['logerror']\n",
    "\n",
    "# Shuffle and split the data into training and testing subsets\n",
    "Y_all_train, Y_all_test, y_all_train, y_all_test = train_test_split(Y_all,Y_all,test_size=0.2,random_state=123)"
   ]
  },
  {
   "cell_type": "code",
   "execution_count": 4,
   "metadata": {
    "collapsed": true
   },
   "outputs": [],
   "source": [
    "# function to estimate the average sum of the squared errors using the mean of y_train as the predictor \n",
    "def get_mse_mean(y_train,actuals):\n",
    "    mean_train=y_train.mean()\n",
    "    SE_mean=mean_train-actuals\n",
    "    SE_mean=SE_mean*SE_mean\n",
    "    SSE_mean=SE_mean.sum()\n",
    "    return SSE_mean/len(actuals)"
   ]
  },
  {
   "cell_type": "code",
   "execution_count": 10,
   "metadata": {},
   "outputs": [],
   "source": [
    "from sklearn.metrics import r2_score\n",
    "\n",
    "def performance_metric(y_true, y_predict):\n",
    "    \n",
    "    # Calculate the performance score between 'y_true' and 'y_predict'\n",
    "    score = r2_score(y_true,y_predict)\n",
    "    \n",
    "    # Return the score\n",
    "    return score"
   ]
  },
  {
   "cell_type": "code",
   "execution_count": 27,
   "metadata": {},
   "outputs": [],
   "source": [
    "import numpy as np\n",
    "\n",
    "def get_r2_mean(y_train,actuals):\n",
    "    \n",
    "    train_mean=y_train.mean()\n",
    "    test_dim=len(actuals)\n",
    "    train_mean_array=np.full((test_dim,1),train_mean)\n",
    "    \n",
    "    r2=r2_score(actuals,train_mean_array)\n",
    "    \n",
    "    return r2"
   ]
  },
  {
   "cell_type": "markdown",
   "metadata": {},
   "source": [
    "Using random_state=123"
   ]
  },
  {
   "cell_type": "code",
   "execution_count": 34,
   "metadata": {},
   "outputs": [],
   "source": [
    "benchmark_r2=get_r2_mean(y_all_train,y_all_test)"
   ]
  },
  {
   "cell_type": "code",
   "execution_count": 36,
   "metadata": {},
   "outputs": [],
   "source": [
    "benchmark_mse=get_mse_mean(y_all_train,y_all_test)"
   ]
  },
  {
   "cell_type": "code",
   "execution_count": 37,
   "metadata": {},
   "outputs": [
    {
     "name": "stdout",
     "output_type": "stream",
     "text": [
      "Benchmark r2: -0.00003415 \n",
      "Benchmark mse:0.02463887\n"
     ]
    }
   ],
   "source": [
    "print(\"Benchmark r2: %.8f \\nBenchmark mse:%.8f\" % (benchmark_r2,benchmark_mse))"
   ]
  }
 ],
 "metadata": {
  "kernelspec": {
   "display_name": "Python 3",
   "language": "python",
   "name": "python3"
  },
  "language_info": {
   "codemirror_mode": {
    "name": "ipython",
    "version": 3
   },
   "file_extension": ".py",
   "mimetype": "text/x-python",
   "name": "python",
   "nbconvert_exporter": "python",
   "pygments_lexer": "ipython3",
   "version": "3.5.2"
  },
  "widgets": {
   "state": {},
   "version": "1.1.2"
  }
 },
 "nbformat": 4,
 "nbformat_minor": 2
}
